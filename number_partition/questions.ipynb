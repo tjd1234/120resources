{
 "cells": [
  {
   "cell_type": "markdown",
   "metadata": {},
   "source": [
    "# The Number Partition Problem\n",
    "\n",
    "[The Number Partition Problem](https://en.wikipedia.org/wiki/Partition_problem)\n",
    "is famous computational problem that asks you to *partition* a list of numbers\n",
    "into two lists such that the absolute value of the difference of the sums of the\n",
    "numbers in the two lists is as small as possible. The best possible difference\n",
    "is 0, but this is not always possible.\n",
    "\n",
    "The term *partition* means that each number of the original list is put into\n",
    "exactly one of the other two lists.\n",
    "\n",
    "The problem is [NP-complete](https://en.wikipedia.org/wiki/NP-complete), which\n",
    "means that the best algorithms for solving it take exponential time. However, it\n",
    "is unknown whether there is a polynomial-time algorithm for the problem.\n",
    "\n",
    "Before looking at a couple of algorithms for solving the problem, lets' write some code to read numbers from a file and compute their sum."
   ]
  },
  {
   "cell_type": "markdown",
   "metadata": {},
   "source": [
    "## Question 1: Getting Numbers from a File\n",
    "\n",
    "Write a function call `get_numbers(filename)` that returns a list of the numbers\n",
    "in the test file `filename`. Assume that `filename` is a text file with one int\n",
    "on each line.\n",
    "\n",
    "For example, suppose the file `scores.txt` contains this:\n",
    "\n",
    "```\n",
    "4\n",
    "9\n",
    "1\n",
    "1\n",
    "0\n",
    "```\n",
    "\n",
    "Then calling `get_numbers('scores.txt')` returns the list `[4, 9, 1, 1, 10]`."
   ]
  },
  {
   "cell_type": "markdown",
   "metadata": {},
   "source": [
    "### Question 2: Summing the Numbers in a File\n",
    "\n",
    "Write a function call `get_filesum(filename)` that returns the sum of the\n",
    "numbers in the file `filename`. Assume that `filename` is a text file with one\n",
    "int on each line.\n",
    "\n",
    "Use the `get_numbers(filename)` function to help implement this function.\n",
    "\n",
    "For example, suppose the file `scores.txt` contains this:\n",
    "\n",
    "```\n",
    "4\n",
    "9\n",
    "1\n",
    "1\n",
    "0\n",
    "```\n",
    "\n",
    "Then calling `get_filesum('scores.txt')` returns `15`."
   ]
  },
  {
   "cell_type": "markdown",
   "metadata": {},
   "source": [
    "### Question 3: Writing Two Output Files\n",
    "\n",
    "Write a function called `write_lists(left, right)` that takeslists `left` and\n",
    "`right` as input and writes their contents to the files `left.txt` and\n",
    "`right.txt`, respectively.\n",
    "\n",
    "For example, calling `write_lists([1, 2, 3], [4, 5, 6])` should create the files\n",
    "`left.txt` and `right.txt` with the following contents. `left.txt` is:\n",
    "\n",
    "```\n",
    "1\n",
    "2\n",
    "3\n",
    "```\n",
    "\n",
    "And `right.txt` is:\n",
    "\n",
    "```\n",
    "4\n",
    "5\n",
    "6\n",
    "```"
   ]
  },
  {
   "cell_type": "markdown",
   "metadata": {},
   "source": [
    "## Question 4: Scoring Two Lists\n",
    "\n",
    "Write a function called `get_score(left, right)` that returns the absolute value\n",
    "of the difference of the sums of the numbers in the lists `left` and `right`.\n",
    "\n",
    "For example, suppose `left` is `[1, 2, 3]` and `right` is `[4, 5, 6]`. Then\n",
    "calling `get_score(left, right)` should return `9`."
   ]
  },
  {
   "cell_type": "markdown",
   "metadata": {},
   "source": [
    "## Question 5: Method 1 for Partitioning the Numbers\n",
    "\n",
    "One algorithm for solving the number partition problem is the following:\n",
    "\n",
    "- set *left* to the empty list\n",
    "- set *right* to the empty list\n",
    "- for each number in the original list:\n",
    "  - add the number to the list with the current smallest sum (in case of a tie\n",
    "    always choose *left*)\n",
    "\n",
    "Write a function called `split_numbers_method1(numbers)` that implements this\n",
    "algorithm.\n",
    "\n",
    "For example, `split_numbers_method1([1, 2, 3, 4, 5, 6])` should return `([2, 4,\n",
    "6], [1, 3, 5])`, which has a score of `abs(12 - 9) = 3`.\n",
    "\n",
    "**This method does *not* necessarily return the optimal solution!** The order of\n",
    "the numbers in the original list makes a difference. For example,\n",
    "`split_numbers_method1([1, 2, 3, 4, 5, 6])` returns `([1, 3, 5], [2, 4, 6])`,\n",
    "for a score of `abs(9 - 12) = 3`. But if you reverse the order, then\n",
    "`split_numbers_method1([6, 5, 4, 3, 2, 1])` returns `([6, 3, 2], [5, 4, 1])`,\n",
    "which has a better score of `abs(11 - 10) = 1`.\n",
    "\n",
    "Note that in these examples the two returned lists are the same length. That's\n",
    "just a coincidence. In general, the returned lists can have different lengths.\n",
    "For example, `split_numbers_method1([5, 20, 14, 1])` returns `([5, 14, 1],\n",
    "[20])`, which has a perfect score of `abs(20 - 20) = 0`."
   ]
  },
  {
   "cell_type": "markdown",
   "metadata": {},
   "source": [
    "## Question 6: Variations of Method 1\n",
    "\n",
    "Implement the following variations of methods 1:\n",
    "\n",
    "- `split_numbers_method1_sort_ascending(numbers)` Sorts the numbers in\n",
    "  *ascending* order (smallest to biggest) and then calls\n",
    "  `split_numbers_method1`.\n",
    "- `split_numbers_method1_sort_descending(numbers)` Sorts the numbers in\n",
    "  *descending* order (biggest to smallest) and then calls\n",
    "  `split_numbers_method1`.\n",
    "- `split_numbers_method1_sort_ascending_randomized(numbers)` Before calling\n",
    "  `split_numbers_method1`, randomly shuffle the order of the numbers. Using the\n",
    "  `shuffle` function from the `random` module.\n",
    "- `split_numbers_method1_sort_ascending_randomized(numbers, n)` Call the\n",
    "  previous method `n` times and return the best result.\n",
    "\n",
    "For example, `split_numbers_method1_sort_ascending_randomized([1, 2, 3, 4, 5, 6])`\n",
    "might return `([1, 3, 5], [2, 4, 6])`, which has a score of `abs(9 - 12) = 3`.\n"
   ]
  },
  {
   "cell_type": "markdown",
   "metadata": {},
   "source": [
    "## Question 7: Method 2 for Partitioning the Numbers\n",
    "\n",
    "For this question, your task is to find the largest list length for which\n",
    "`split_numbers_method2(nums)` runs in less than a minute.\n",
    "\n",
    "`split_numbers_method2(nums)` *partitions* the numbers into all possible splits\n",
    "of two lists and then selects the partition with the smallest score. Thus it\n",
    "guarantees to find the optimal solution. Unfortunately, it is slow for even\n",
    "moderately large lists. \n",
    "\n",
    "The problem is that the number of partitions grows *exponentially* with the size\n",
    "of the input list, i.e. a list of length $n$ has about $2^n$ partitions. So, for\n",
    "instance, a list of length 20 has about $2^{20} = 1048576$ partitions (a little\n",
    "over a million), a list of 21 numbers has twice as many (about 2 million\n",
    "partitions), and so on. Every time the length of the list increases *by 1*, the\n",
    "number of partitions *doubles*.\n",
    "\n",
    "Read the `all_partitions` function below. It returns a list of all possible\n",
    "partitions of a list into two lists. It does this *recursively*. To generate all\n",
    "partitions of $n$ items, it first generates a list of all partitions of $n-1$\n",
    "items. Then it replaces each individual partitions by two new partitions,\n",
    "generated by adding $n$ to the left or right list of the partition."
   ]
  },
  {
   "cell_type": "code",
   "execution_count": 10,
   "metadata": {},
   "outputs": [
    {
     "name": "stdout",
     "output_type": "stream",
     "text": [
      "best left: [1, 2, 2, 1, 5]\n",
      "best right: [4, 6]\n",
      "score: 1\n"
     ]
    }
   ],
   "source": [
    "def all_partitions(nums):\n",
    "    \"\"\"Returns a list of all possible partitions of the list nums into two lists.\n",
    "    \"\"\"\n",
    "    if len(nums) == 0:\n",
    "        return []\n",
    "    elif len(nums) == 1:\n",
    "        left = [nums[0]]\n",
    "        right = []\n",
    "        return [ [left, right] ]\n",
    "    else:\n",
    "        # call the first element of numns n\n",
    "        n = nums[0]\n",
    "        # recursively call all_partitions on the rest of the numbers\n",
    "        parts = all_partitions(nums[1:])\n",
    "        # initialize an empty list to store the results\n",
    "        result = []\n",
    "        # loop over all partitions and replace each one with two new partitions, each containing n\n",
    "        for part in parts:\n",
    "            left, right = part[0], part[1]\n",
    "            result.append([ [n] + left,       right ])\n",
    "            result.append([       left, [n] + right ])\n",
    "            \n",
    "        return result\n",
    "\n",
    "def split_numbers_method2(nums):\n",
    "    # generate all partitions of the numbers into two lists\n",
    "    all_parts = all_partitions(nums)\n",
    "    \n",
    "    # initialize the best partition and its score\n",
    "    best_left = all_parts[0][0]\n",
    "    best_right = all_parts[0][1]\n",
    "    best_score = get_score(best_left, best_right)\n",
    "    \n",
    "    # loop over all partitions and find the one with the smallest score\n",
    "    for part in all_parts:\n",
    "        left, right = part[0], part[1]\n",
    "        score = get_score(left, right)\n",
    "        if score < best_score:\n",
    "            best_left, best_right = left, right\n",
    "            best_score = score\n",
    "            \n",
    "    return best_left, best_right\n",
    "\n",
    "best_left, best_right = split_numbers_method2([4, 1, 2, 2, 6, 1, 5])\n",
    "print(f'best left: {best_left}')\n",
    "print(f'best right: {best_right}')\n",
    "print(f'score: {get_score(best_left, best_right)}')"
   ]
  },
  {
   "cell_type": "markdown",
   "metadata": {},
   "source": [
    "## Question 8: Estimating Running Time of 100 Numbers\n",
    "\n",
    "The file [nums100.txt](nums100.txt) has 100 numbers. If you were to run\n",
    "`split_numbers_method2` on those numbers, how long do you estimate it would take\n",
    "for the function to return an answer? Estimate your answer using the data from\n",
    "the previous question."
   ]
  },
  {
   "cell_type": "markdown",
   "metadata": {},
   "source": [
    "## Question 9: Partitioning 100 Numbers\n",
    "\n",
    "Using the approximation could from question 6, what is the lowest-scoring\n",
    "partition you can find for [nums100.txt](nums100.txt)?"
   ]
  }
 ],
 "metadata": {
  "kernelspec": {
   "display_name": "Python 3",
   "language": "python",
   "name": "python3"
  },
  "language_info": {
   "codemirror_mode": {
    "name": "ipython",
    "version": 3
   },
   "file_extension": ".py",
   "mimetype": "text/x-python",
   "name": "python",
   "nbconvert_exporter": "python",
   "pygments_lexer": "ipython3",
   "version": "3.13.2"
  }
 },
 "nbformat": 4,
 "nbformat_minor": 2
}

{
 "cells": [
  {
   "cell_type": "markdown",
   "metadata": {},
   "source": [
    "# The Number Partition Problem\n",
    "\n",
    "[The Number Partition Problem](https://en.wikipedia.org/wiki/Partition_problem)\n",
    "is famous computational problem that asks you to *partition* a list of numbers\n",
    "into two lists such that the absolute value of the difference of the sums of the\n",
    "numbers in the two lists is as small as possible. The best possible difference\n",
    "is 0, but this is not always possible.\n",
    "\n",
    "The term *partition* means that each number of the original list is put into\n",
    "exactly one of the other two lists.\n",
    "\n",
    "The problem is [NP-complete](https://en.wikipedia.org/wiki/NP-complete), which\n",
    "means that the best algorithms for solving it take exponential time. However, it\n",
    "is unknown whether there is a polynomial-time algorithm for the problem.\n",
    "\n",
    "Before looking at a couple of algorithms for solving the problem, lets' write some code to read numbers from a file and compute their sum."
   ]
  },
  {
   "cell_type": "markdown",
   "metadata": {},
   "source": [
    "## Question 1: Getting Numbers from a File\n",
    "\n",
    "Write a function call `get_numbers(filename)` that returns a list of the numbers\n",
    "in the test file `filename`. Assume that `filename` is a text file with one int\n",
    "on each line.\n",
    "\n",
    "For example, suppose the file `scores.txt` contains this:\n",
    "\n",
    "```\n",
    "4\n",
    "9\n",
    "1\n",
    "1\n",
    "0\n",
    "```\n",
    "\n",
    "Then calling `get_numbers('scores.txt')` returns the list `[4, 9, 1, 1, 10]`."
   ]
  },
  {
   "cell_type": "markdown",
   "metadata": {},
   "source": [
    "### Question 1: Sample Solution"
   ]
  },
  {
   "cell_type": "code",
   "execution_count": 4,
   "metadata": {},
   "outputs": [
    {
     "name": "stdout",
     "output_type": "stream",
     "text": [
      "[4, 9, 1, 1, 0]\n"
     ]
    }
   ],
   "source": [
    "def get_numbers(filename):\n",
    "    with open(filename, 'r') as file:\n",
    "        result = []\n",
    "        for line in file:\n",
    "            result.append(int(line.strip()))\n",
    "        return result\n",
    "\n",
    "print(get_numbers('scores.txt'))"
   ]
  },
  {
   "cell_type": "markdown",
   "metadata": {},
   "source": [
    "### Question 2: Summing the Numbers in a File\n",
    "\n",
    "Write a function call `get_filesum(filename)` that returns the sum of the\n",
    "numbers in the file `filename`. Assume that `filename` is a text file with one\n",
    "int on each line.\n",
    "\n",
    "Use the `get_numbers(filename)` function to help implement this function.\n",
    "\n",
    "For example, suppose the file `scores.txt` contains this:\n",
    "\n",
    "```\n",
    "4\n",
    "9\n",
    "1\n",
    "1\n",
    "0\n",
    "```\n",
    "\n",
    "Then calling `get_filesum('scores.txt')` returns `15`."
   ]
  },
  {
   "cell_type": "markdown",
   "metadata": {},
   "source": [
    "### Question 2: Sample Solution"
   ]
  },
  {
   "cell_type": "code",
   "execution_count": 5,
   "metadata": {},
   "outputs": [
    {
     "name": "stdout",
     "output_type": "stream",
     "text": [
      "[4, 9, 1, 1, 0]\n",
      "15\n"
     ]
    }
   ],
   "source": [
    "def get_filesum(filename):\n",
    "    nums = get_numbers(filename)\n",
    "    total = 0\n",
    "    for num in nums:\n",
    "        total += num\n",
    "    return total\n",
    "\n",
    "print(get_numbers('scores.txt'))\n",
    "print(get_filesum('scores.txt'))"
   ]
  },
  {
   "cell_type": "markdown",
   "metadata": {},
   "source": [
    "### Question 3: Writing Two Output Files\n",
    "\n",
    "Write a function called `write_lists(left, right)` that takeslists `left` and\n",
    "`right` as input and writes their contents to the files `left.txt` and\n",
    "`right.txt`, respectively.\n",
    "\n",
    "For example, calling `write_lists([1, 2, 3], [4, 5, 6])` should create the files\n",
    "`left.txt` and `right.txt` with the following contents. `left.txt` is:\n",
    "\n",
    "```\n",
    "1\n",
    "2\n",
    "3\n",
    "```\n",
    "\n",
    "And `right.txt` is:\n",
    "\n",
    "```\n",
    "4\n",
    "5\n",
    "6\n",
    "```"
   ]
  },
  {
   "cell_type": "markdown",
   "metadata": {},
   "source": [
    "### Question 3: Sample Solution"
   ]
  },
  {
   "cell_type": "code",
   "execution_count": 6,
   "metadata": {},
   "outputs": [
    {
     "name": "stdout",
     "output_type": "stream",
     "text": [
      "[1, 2, 3]\n",
      "[4, 5, 6]\n"
     ]
    }
   ],
   "source": [
    "def write_lists(left, right):\n",
    "    \"\"\"Writes two files, left.txt and right.txt, that contain the numbers in the\n",
    "    list left and the numbers in the list right, respectively.\n",
    "    \"\"\"\n",
    "    with open('left.txt', 'w') as outfile:\n",
    "        for num in left:\n",
    "            outfile.write(f'{num}\\n')\n",
    "    with open('right.txt', 'w') as outfile:\n",
    "        for num in right:\n",
    "            outfile.write(f'{num}\\n')\n",
    "\n",
    "write_lists([1, 2, 3], [4, 5, 6]) # write to left.txt and right.txt\n",
    "print(get_numbers('left.txt'))\n",
    "print(get_numbers('right.txt'))\n"
   ]
  },
  {
   "cell_type": "markdown",
   "metadata": {},
   "source": [
    "## Question 4: Scoring Two Kusts\n",
    "\n",
    "Write a function called `get_score(left, right)` that returns the absolute value\n",
    "of the difference of the sums of the numbers in the lists `left` and `right`.\n",
    "\n",
    "For example, suppose `left` is `[1, 2, 3]` and `right` is `[4, 5, 6]`. Then\n",
    "calling `get_score(left, right)` should return `9`."
   ]
  },
  {
   "cell_type": "markdown",
   "metadata": {},
   "source": [
    "### Question 4: Sample Solution"
   ]
  },
  {
   "cell_type": "code",
   "execution_count": 7,
   "metadata": {},
   "outputs": [
    {
     "name": "stdout",
     "output_type": "stream",
     "text": [
      "score for [7, 2, 3] and [4, 5, 6, 1]:\n",
      "abs(12 - 16) = 4\n"
     ]
    }
   ],
   "source": [
    "def get_score(left, right):\n",
    "    return abs(sum(left) - sum(right))\n",
    "\n",
    "a = [7, 2, 3]\n",
    "b = [4, 5, 6, 1]\n",
    "score = get_score(a, b)\n",
    "print(f'score for {a} and {b}:')\n",
    "print(f'abs({sum(a)} - {sum(b)}) = {score}')\n"
   ]
  },
  {
   "cell_type": "markdown",
   "metadata": {},
   "source": [
    "## Question 5: Method 1 for Partitioning the Numbers\n",
    "\n",
    "One algorithm for solving the number partition problem is the following:\n",
    "\n",
    "- set *left* to the empty list\n",
    "- set *right* to the empty list\n",
    "- for each number in the original list:\n",
    "  - add the number to the list with the current smallest sum (in case of a tie\n",
    "    always choose *left*)\n",
    "\n",
    "Write a function called `split_numbers_method1(numbers)` that implements this\n",
    "algorithm.\n",
    "\n",
    "For example, `split_numbers_method1([1, 2, 3, 4, 5, 6])` should return `([2, 4,\n",
    "6], [1, 3, 5])`, which has a score of `abs(12 - 9) = 3`.\n",
    "\n",
    "**This method does *not* necessarily return the optimal solution!** The order of\n",
    "the numbers in the original list makes a difference. For example,\n",
    "`split_numbers_method1([1, 2, 3, 4, 5, 6])` returns `([1, 3, 5], [2, 4, 6])`,\n",
    "for a score of `abs(9 - 12) = 3`. But if you reverse the order, then\n",
    "`split_numbers_method1([6, 5, 4, 3, 2, 1])` returns `([6, 3, 2], [5, 4, 1])`,\n",
    "which has a better score of `abs(11 - 10) = 1`.\n",
    "\n",
    "Note that in these examples the two returned lists are the same length. That's\n",
    "just a coincidence. In general, the returned lists can have different lengths.\n",
    "For example, `split_numbers_method1([5, 20, 14, 1])` returns `([5, 14, 1],\n",
    "[20])`, which has a perfect score of `abs(20 - 20) = 0`."
   ]
  },
  {
   "cell_type": "markdown",
   "metadata": {},
   "source": [
    "### Question 5: Sample Solution"
   ]
  },
  {
   "cell_type": "code",
   "execution_count": 8,
   "metadata": {},
   "outputs": [
    {
     "name": "stdout",
     "output_type": "stream",
     "text": [
      "[5, 14, 1] sum = 20\n",
      "[20] sum = 20\n",
      "score = 0\n"
     ]
    }
   ],
   "source": [
    "def split_numbers_method1(numbers):\n",
    "    left, right = [], []\n",
    "    for number in numbers:\n",
    "        if sum(left) <= sum(right):\n",
    "            left.append(number)\n",
    "        else:\n",
    "            right.append(number)\n",
    "    return left, right\n",
    "\n",
    "left, right = split_numbers_method1([5, 20, 14, 1])\n",
    "print(f\"{left} sum = {sum(left)}\")\n",
    "print(f\"{right} sum = {sum(right)}\")\n",
    "print(f\"score = {get_score(left, right)}\")\n"
   ]
  },
  {
   "cell_type": "markdown",
   "metadata": {},
   "source": [
    "## Question 6: Variations of Method 1\n",
    "\n",
    "Implement the following variations of methods 1:\n",
    "\n",
    "- `split_numbers_method1_sort_ascending(numbers)` Sorts the numbers in\n",
    "  *ascending* order (smallest to biggest) and then calls\n",
    "  `split_numbers_method1`.\n",
    "- `split_numbers_method1_sort_descending(numbers)` Sorts the numbers in\n",
    "  *descending* order (biggest to smallest) and then calls\n",
    "  `split_numbers_method1`.\n",
    "- `split_numbers_method1_sort_ascending_randomized(numbers)` Before calling\n",
    "  `split_numbers_method1`, randomly shuffle the order of the numbers. Using the\n",
    "  `shuffle` function from the `random` module.\n",
    "- `split_numbers_method1_sort_ascending_randomized(numbers, n)` Call the\n",
    "  previous method `n` times and return the best result.\n",
    "\n",
    "For example, `split_numbers_method1_sort_ascending_randomized([1, 2, 3, 4, 5, 6])`\n",
    "might return `([1, 3, 5], [2, 4, 6])`, which has a score of `abs(9 - 12) = 3`.\n"
   ]
  },
  {
   "cell_type": "markdown",
   "metadata": {},
   "source": [
    "### Question 6: Sample Solution"
   ]
  },
  {
   "cell_type": "code",
   "execution_count": 9,
   "metadata": {},
   "outputs": [
    {
     "name": "stdout",
     "output_type": "stream",
     "text": [
      "nums = [11, 2, 10, 12, 3, 14, 6]\n",
      "\n",
      "sorted ascending\n",
      "left  = [2, 6, 11, 14]\n",
      "right = [3, 10, 12]\n",
      "score = 8\n",
      "\n",
      "sorted descending\n",
      "left  = [14, 10, 3, 2]\n",
      "right = [12, 11, 6]\n",
      "score = 0\n",
      "\n",
      "randomized once  \n",
      "left  = [10, 6, 3, 14]\n",
      "right = [11, 2, 12]\n",
      "score = 8\n",
      "\n",
      "randomized 100 times\n",
      "left  = [3, 14, 12]\n",
      "right = [6, 10, 2, 11]\n",
      "score = 0\n"
     ]
    }
   ],
   "source": [
    "def split_numbers_method1_sort_ascending(numbers):\n",
    "    numbers.sort()\n",
    "    return split_numbers_method1(numbers)\n",
    "\n",
    "def split_numbers_method1_sort_descending(numbers):\n",
    "    numbers.sort(reverse=True)\n",
    "    return split_numbers_method1(numbers)\n",
    "\n",
    "import random\n",
    "\n",
    "def split_numbers_method1_randomized(numbers):\n",
    "    random.shuffle(numbers)\n",
    "    return split_numbers_method1(numbers)\n",
    "\n",
    "def split_numbers_method1_sort_ascending_randomized(numbers, n):\n",
    "    best_left, best_right = [], []\n",
    "    best_score = float('inf')\n",
    "    for _ in range(n):\n",
    "        left, right = split_numbers_method1_randomized(numbers)\n",
    "        score = get_score(left, right)\n",
    "        if score < best_score:\n",
    "            best_left, best_right = left, right\n",
    "            best_score = score\n",
    "    return best_left, best_right\n",
    "\n",
    "# Example usage:\n",
    "nums = [11, 2, 10, 12, 3, 14, 6]\n",
    "print(f\"nums = {nums}\\n\")\n",
    "\n",
    "print(\"sorted ascending\")\n",
    "left, right = split_numbers_method1_sort_ascending(nums)\n",
    "print(f\"left  = {left}\\nright = {right}\")\n",
    "print(f\"score = {get_score(left, right)}\\n\")\n",
    "\n",
    "print(\"sorted descending\")\n",
    "left, right = split_numbers_method1_sort_descending(nums)\n",
    "print(f\"left  = {left}\\nright = {right}\")\n",
    "print(f\"score = {get_score(left, right)}\\n\")\n",
    "\n",
    "print(\"randomized once  \")\n",
    "left, right = split_numbers_method1_randomized(nums)\n",
    "print(f\"left  = {left}\\nright = {right}\")\n",
    "print(f\"score = {get_score(left, right)}\\n\")\n",
    "\n",
    "print(\"randomized 100 times\")\n",
    "left, right = split_numbers_method1_sort_ascending_randomized(nums, 100)\n",
    "print(f\"left  = {left}\\nright = {right}\")\n",
    "print(f\"score = {get_score(left, right)}\")\n"
   ]
  },
  {
   "cell_type": "markdown",
   "metadata": {},
   "source": []
  },
  {
   "cell_type": "markdown",
   "metadata": {},
   "source": [
    "## Question 7: Method 2 for Partitioning the Numbers\n",
    "\n",
    "For this question, your task is to find the largest list length for which\n",
    "`split_numbers_method2(nums)` runs in less than a minute.\n",
    "\n",
    "`split_numbers_method2(nums)` *partitions* the numbers into all possible splits\n",
    "of two lists and then selects the partition with the smallest score. Thus it\n",
    "guarantees to find the optimal solution. Unfortunately, it is slow for even\n",
    "moderately large lists. \n",
    "\n",
    "The problem is that the number of partitions grows *exponentially* with the size\n",
    "of the input list, i.e. a list of length $n$ has about $2^n$ partitions. So, for\n",
    "instance, a list of length 20 has about $2^{20} = 1048576$ partitions (a little\n",
    "over a million), a list of 21 numbers has twice as many (about 2 million\n",
    "partitions), and so on. Every time the length of the list increases *by 1*, the\n",
    "number of partitions *doubles*.\n",
    "\n",
    "Read the `all_partitions` function below. It returns a list of all possible\n",
    "partitions of a list into two lists. It does this *recursively*. To generate all\n",
    "partitions of $n$ items, it first generates a list of all partitions of $n-1$\n",
    "items. Then it replaces each individual partitions by two new partitions,\n",
    "generated by adding $n$ to the left or right list of the partition."
   ]
  },
  {
   "cell_type": "code",
   "execution_count": 10,
   "metadata": {},
   "outputs": [
    {
     "name": "stdout",
     "output_type": "stream",
     "text": [
      "best left: [1, 2, 2, 1, 5]\n",
      "best right: [4, 6]\n",
      "score: 1\n"
     ]
    }
   ],
   "source": [
    "def all_partitions(nums):\n",
    "    \"\"\"Returns a list of all possible partitions of the list nums into two lists.\n",
    "    \"\"\"\n",
    "    if len(nums) == 0:\n",
    "        return []\n",
    "    elif len(nums) == 1:\n",
    "        left = [nums[0]]\n",
    "        right = []\n",
    "        return [ [left, right] ]\n",
    "    else:\n",
    "        # call the first element of numns n\n",
    "        n = nums[0]\n",
    "        # recursively call all_partitions on the rest of the numbers\n",
    "        parts = all_partitions(nums[1:])\n",
    "        # initialize an empty list to store the results\n",
    "        result = []\n",
    "        # loop over all partitions and replace each one with two new partitions, each containing n\n",
    "        for part in parts:\n",
    "            left, right = part[0], part[1]\n",
    "            result.append([ [n] + left,       right ])\n",
    "            result.append([       left, [n] + right ])\n",
    "            \n",
    "        return result\n",
    "\n",
    "def split_numbers_method2(nums):\n",
    "    # generate all partitions of the numbers into two lists\n",
    "    all_parts = all_partitions(nums)\n",
    "    \n",
    "    # initialize the best partition and its score\n",
    "    best_left = all_parts[0][0]\n",
    "    best_right = all_parts[0][1]\n",
    "    best_score = get_score(best_left, best_right)\n",
    "    \n",
    "    # loop over all partitions and find the one with the smallest score\n",
    "    for part in all_parts:\n",
    "        left, right = part[0], part[1]\n",
    "        score = get_score(left, right)\n",
    "        if score < best_score:\n",
    "            best_left, best_right = left, right\n",
    "            best_score = score\n",
    "            \n",
    "    return best_left, best_right\n",
    "\n",
    "best_left, best_right = split_numbers_method2([4, 1, 2, 2, 6, 1, 5])\n",
    "print(f'best left: {best_left}')\n",
    "print(f'best right: {best_right}')\n",
    "print(f'score: {get_score(best_left, best_right)}')"
   ]
  },
  {
   "cell_type": "markdown",
   "metadata": {},
   "source": [
    "### Question 7: Sample Solution\n",
    "\n",
    "This code shows the it takes to partition lists of increasing length. It goes up\n",
    "to n=23, which takes a little over 6 seconds on my computer. The exact running\n",
    "time may vary, depending on the speed of the computer."
   ]
  },
  {
   "cell_type": "code",
   "execution_count": 11,
   "metadata": {},
   "outputs": [
    {
     "name": "stdout",
     "output_type": "stream",
     "text": [
      "n=1: 0.00 seconds\n",
      "n=2: 0.00 seconds\n",
      "n=3: 0.00 seconds\n",
      "n=4: 0.00 seconds\n",
      "n=5: 0.00 seconds\n",
      "n=6: 0.00 seconds\n",
      "n=7: 0.00 seconds\n",
      "n=8: 0.00 seconds\n",
      "n=9: 0.00 seconds\n",
      "n=10: 0.00 seconds\n",
      "n=11: 0.00 seconds\n",
      "n=12: 0.00 seconds\n",
      "n=13: 0.00 seconds\n",
      "n=14: 0.00 seconds\n",
      "n=15: 0.01 seconds\n",
      "n=16: 0.03 seconds\n",
      "n=17: 0.05 seconds\n",
      "n=18: 0.11 seconds\n",
      "n=19: 0.30 seconds\n",
      "n=20: 0.73 seconds\n",
      "n=21: 1.54 seconds\n"
     ]
    },
    {
     "name": "stderr",
     "output_type": "stream",
     "text": [
      "Exception ignored in: <bound method IPythonKernel._clean_thread_parent_frames of <ipykernel.ipkernel.IPythonKernel object at 0x10702a660>>\n",
      "Traceback (most recent call last):\n",
      "  File \"/Users/tjd/Library/Python/3.13/lib/python/site-packages/ipykernel/ipkernel.py\", line 775, in _clean_thread_parent_frames\n",
      "    def _clean_thread_parent_frames(\n",
      "KeyboardInterrupt: \n"
     ]
    },
    {
     "name": "stdout",
     "output_type": "stream",
     "text": [
      "n=22: 3.23 seconds\n",
      "n=23: 6.36 seconds\n"
     ]
    }
   ],
   "source": [
    "import time\n",
    "\n",
    "for n in range(1, 23 + 1):\n",
    "    nums = list(range(1, n+1))\n",
    "    start = time.time()\n",
    "    left, right = split_numbers_method2(nums)\n",
    "    end = time.time()\n",
    "    print(f'n={n}: {end - start:.2f} seconds')"
   ]
  },
  {
   "cell_type": "markdown",
   "metadata": {},
   "source": [
    "## Question 8: Estimating Running Time of 100 Numbers\n",
    "\n",
    "The file [nums100.txt](nums100.txt) has 100 numbers. If you were to run\n",
    "`split_numbers_method2` on those numbers, how long do you estimate it would take\n",
    "for the function to return an answer? Estimate your answer using the data from\n",
    "the previous question."
   ]
  },
  {
   "cell_type": "markdown",
   "metadata": {},
   "source": [
    "### Question 8: Sample Solution\n",
    "\n",
    "From the sample data in question 7 we see that when the size of the input list\n",
    "increases by 1, the running time approximately doubles.\n",
    "\n",
    "For $n=23$ it took 6.49s to run. To get from that to $n=100$, we must double\n",
    "6.49s 77 times. So for $n=100$, we estimate it would take $6.49 \\cdot 2 \\cdot 2\n",
    "\\cdot \\ldots \\cdot 2 = 6.49 \\cdot 2^{77}$ seconds.\n",
    "\n",
    "We can calculate this in Python:"
   ]
  },
  {
   "cell_type": "code",
   "execution_count": 2,
   "metadata": {},
   "outputs": [
    {
     "name": "stdout",
     "output_type": "stream",
     "text": [
      "9.80741071162368e+23\n"
     ]
    }
   ],
   "source": [
    "print(6.49 * (2 ** 77))"
   ]
  },
  {
   "cell_type": "markdown",
   "metadata": {},
   "source": [
    "So it would take about $1.25\\times 10^{23}$ seconds to run\n",
    "`split_numbers_method2` on a list of 100 numbers.\n",
    "\n",
    "To put this in perspective, the age of the universe is estimated to be only\n",
    "about $4.3\\times 10^{17}$ seconds."
   ]
  },
  {
   "cell_type": "markdown",
   "metadata": {},
   "source": [
    "## Question 9: Partitioning 100 Numbers\n",
    "\n",
    "Using the approximation could from question 6, what is the lowest-scoring\n",
    "partition you can get for [nums100.txt](nums100.txt)?"
   ]
  },
  {
   "cell_type": "markdown",
   "metadata": {},
   "source": [
    "### Question 9: Sample Solution"
   ]
  },
  {
   "cell_type": "code",
   "execution_count": 18,
   "metadata": {},
   "outputs": [
    {
     "name": "stdout",
     "output_type": "stream",
     "text": [
      "best left: [284735, 324536, 448394, 792744, 555755, 795407, 704542, 952600, 94512, 44621, 721571, 164115, 603809, 751071, 251653, 628719, 579412, 597586, 110289, 1259, 963409, 370783, 497432, 914276, 72015, 360980, 342218, 994149, 961816, 360881, 307041, 426994, 394790, 911583, 126967, 427596, 975139, 523982, 391317, 447808, 704436, 547389, 854774, 344124, 879104, 878043, 588063, 307787, 675652, 667135, 930442, 598209, 263094, 564516, 867205, 867960, 189041, 615790, 665718, 107644, 189008, 105938, 598227, 48330, 559313, 830013, 686486, 91389, 39569, 744041, 624622, 522903, 540064, 262615, 104660, 187006, 964388, 737162, 314658, 570458, 431605, 966831, 921883, 111184, 137178, 171464, 660759, 316725, 235866, 358480, 962834, 538394, 631188, 296427, 79712, 350094, 334867, 601898, 112117, 915974, 922670, 75780, 700003, 123120, 514544, 880405, 179994, 401973, 977241, 893568, 275006, 612423, 993429, 720882, 508251, 793875, 146913, 913348, 319672, 991887, 366943, 907941, 459486, 940453, 478179, 665010, 856618, 871824, 936368, 203146, 751291, 506847, 230701, 832993, 511202, 60114, 713727, 406415, 107902, 779351, 777467, 244919, 305896, 495456, 480274, 333056, 80102, 886374, 968628, 978937, 167574, 786642, 682811, 813847, 771631, 832010, 59502, 29340, 839344, 206759, 879885, 80764, 406160, 374857, 307144, 111939, 527414, 695137, 566515, 969175, 327775, 569450, 905127, 183966, 778143, 996845, 688071, 599885, 446011, 664992, 798276, 445717, 515817, 327114, 384678, 721760, 211057, 436932, 551732, 323285, 339338, 673414, 548088, 905451, 380919, 383439, 939690, 705495, 641767, 581858, 291598, 580504, 942525, 962775, 951650, 20494, 391069, 188993, 846124, 262192, 632424, 80401, 628893, 81866, 286850, 429132, 937288, 775278, 300736, 953471, 603424, 17348, 490425, 339236, 985280, 164702, 75815, 690567, 93955, 432062, 617684, 913080, 200543, 265928, 334473, 335589, 405022, 545733, 524787, 850388, 166359, 456852, 934881, 806965, 166006, 350466, 450382, 54871, 265017, 879707, 154395, 82578, 321801, 206065, 539944, 404733, 242647, 697985, 224862, 640958, 761336, 227885, 552140, 437332, 7467, 971647, 191840, 284034, 689691, 214088, 890184, 553516, 159638, 959634, 904360, 738755, 72028, 785490, 338793, 824911, 73103, 430526, 857239, 548777, 566940, 786043, 139279, 113727, 762580, 744139, 971663, 862622, 96077, 86371, 670416, 941292, 949495, 854849, 499974, 46224, 866333, 995849, 334147, 277852, 610496, 37215, 764362, 610598, 205914, 6535, 630125, 718594, 384317, 988308, 208502, 825777, 773776, 397456, 748158, 262760, 787879, 534019, 707584, 336210, 146422, 26526, 318500, 985654, 179360, 438332, 642730, 622714, 555856, 252180, 316336, 692535, 128545, 765264, 66579, 1344, 557568, 120261, 240132, 488632, 495401, 574492, 748633, 637698, 904656, 348018, 71414, 91147, 464720, 449851, 92634, 803206, 942334, 814209, 760721, 180044, 729106, 928966, 399638, 245727, 275872, 9607, 803360, 996008, 534025, 202006, 594227, 103473, 131982, 74804, 706620, 122112, 133473, 656614, 992787, 563313, 913966, 391975, 212336, 319533, 968313, 18586, 575517, 867348, 987166, 215904, 220462, 134532, 838872, 619000, 960323, 286029, 296576, 234343, 380738, 807609, 706928, 859108, 281445, 393535, 289178, 87463, 472081, 531340, 126951, 858326, 553809, 647431, 134080, 92454, 974194, 193645, 935716, 446202, 917531, 753956, 211492, 792969, 156060, 777195, 479667, 757748, 28932, 73228, 484673, 980133, 478565, 948820, 99308, 525051, 117167, 183715, 732306, 826711, 381291, 972513, 279211, 296645, 32509, 64013, 753672, 713165, 135378, 899921, 591448, 947533, 413821, 536932, 892301, 532902, 888538, 877618, 223713, 886622, 722404, 281173, 275047, 515004, 546483, 916109, 276575, 215913, 534475, 89847, 704415, 21470, 304107, 799362, 690999, 517025, 627660, 706025, 930981, 474780, 627250, 58426, 551602, 720478, 523821, 448094, 653637, 239207, 897771, 772002, 208342, 246217, 787708, 262844, 724923, 940572, 890981, 593124, 84106, 971096, 919851, 516246, 290501, 673177]\n",
      "best right: [764112, 853291, 826583, 268671, 581449, 10540, 99603, 277442, 784956, 611083, 200768, 180256, 248274, 862740, 416714, 678265, 488039, 775609, 550610, 716056, 508855, 776022, 689200, 531288, 751133, 344001, 848969, 567661, 622895, 399479, 448870, 549853, 128687, 610844, 459408, 201160, 222845, 202607, 184318, 668975, 530427, 126923, 187687, 468788, 206026, 589912, 358195, 679423, 540724, 623052, 290616, 960322, 968490, 202904, 477762, 407256, 645394, 937451, 233576, 67771, 914307, 267069, 921405, 473129, 432909, 470112, 503726, 484048, 626011, 802915, 344581, 134623, 816352, 750181, 907947, 55075, 127829, 142409, 586696, 416638, 530044, 981448, 321151, 754449, 567882, 683479, 691824, 694972, 958249, 445454, 694733, 365094, 185909, 191473, 758302, 417049, 833866, 80369, 868503, 536512, 908156, 990911, 592116, 466052, 952444, 31998, 524999, 384530, 31881, 968507, 84194, 660801, 268551, 938574, 138184, 943442, 857824, 983674, 262128, 748769, 825878, 27573, 654171, 190941, 15434, 1624, 547272, 927934, 422509, 440243, 569699, 185219, 291873, 666123, 56927, 624522, 30629, 204397, 267805, 929073, 474378, 145054, 864396, 560683, 42131, 903247, 50048, 69332, 864359, 453272, 33163, 343606, 49455, 389628, 91735, 23463, 439459, 482077, 633345, 905717, 414844, 854631, 530697, 888182, 868688, 710836, 722726, 857934, 804708, 661926, 769478, 627872, 140302, 743396, 717165, 69108, 526986, 72126, 739361, 24136, 561477, 375022, 341849, 702384, 665268, 860230, 291061, 53815, 653164, 287187, 210417, 888211, 27567, 963480, 750861, 629317, 473690, 911849, 50286, 18935, 676039, 962833, 831774, 173062, 787795, 744946, 813943, 614285, 406643, 769536, 873401, 393388, 736866, 109867, 867400, 923848, 13235, 66324, 468182, 680447, 305906, 799210, 345642, 767820, 765394, 513987, 304629, 731751, 490813, 79761, 498586, 183659, 313874, 578828, 236058, 737377, 812292, 794260, 674794, 989823, 345950, 967184, 461925, 207488, 659113, 355868, 442912, 494157, 287030, 107166, 296388, 412977, 621737, 294769, 733656, 747092, 314567, 282138, 388184, 160793, 977611, 326083, 663029, 456835, 408371, 309279, 746007, 470759, 581865, 137130, 60877, 630560, 224939, 890577, 213517, 313480, 346648, 48211, 881849, 566653, 661091, 735830, 535638, 909679, 639467, 937999, 33013, 533454, 336011, 414028, 293333, 971555, 110059, 869022, 544342, 371122, 849656, 750092, 166689, 436825, 684511, 708883, 283110, 70509, 532579, 455897, 613258, 886161, 911165, 127387, 566934, 653169, 751423, 702137, 624867, 36816, 971107, 327915, 617430, 337446, 778595, 74767, 771557, 534788, 16602, 141494, 437488, 938241, 447835, 53185, 100455, 630147, 973905, 596432, 427059, 231198, 206180, 529482, 339535, 471848, 908199, 911248, 951302, 749247, 635255, 23315, 968540, 914223, 544226, 732037, 223006, 598730, 966185, 618376, 166574, 91289, 946826, 621410, 256493, 663889, 101241, 637232, 827894, 58581, 625323, 652076, 796395, 159519, 299747, 892481, 794337, 335623, 902490, 357654, 622984, 755079, 943543, 195439, 266770, 728367, 159994, 981070, 519270, 514363, 108000, 479981, 785737, 612761, 75969, 236388, 40158, 759734, 527080, 614242, 708303, 91332, 436524, 529322, 773460, 652922, 384655, 127618, 802717, 556257, 445936, 704025, 471437, 53018, 503861, 523066, 854280, 613988, 497237, 934765, 917888, 399160, 879987, 199567, 262941, 218237, 317289, 424390, 981662, 169832, 719442, 965198, 153966, 296380, 368938, 499191, 992993, 855224, 259041, 904562, 214750, 435729, 216383, 487554, 978199, 155830, 758528, 579956, 997406, 47207, 748471, 856460, 607413, 446225, 919657, 654593, 366298, 498673, 919804, 774771, 220753, 631604, 264619, 711467, 243002, 131174, 886593, 265311, 729411, 46961, 71031, 961379, 470536, 483974, 164886, 982518, 993441, 259661, 891093, 634995, 81313, 803547, 405811, 24802, 837556, 734079, 476635, 720915, 168149, 793396, 621904, 399324, 39915, 623136, 544848, 991764, 787843, 494922, 297782, 328111, 758487, 697203, 901237, 189043]\n",
      "best score: 607492\n",
      "\n",
      "best left: [713727, 544848, 718594, 191840, 909679, 963480, 79712, 575517, 215913, 171464, 720478, 293333, 812292, 291061, 28932, 837556, 630125, 126967, 787795, 581865, 127387, 706025, 495401, 750181, 529482, 744139, 962834, 48211, 23315, 327114, 343606, 704542, 212336, 112117, 637232, 79761, 749247, 765264, 546483, 210417, 214088, 758528, 49455, 534788, 533454, 948820, 72015, 627660, 555856, 30629, 220753, 54871, 47207, 484673, 589912, 679423, 426994, 772002, 164702, 281445, 975139, 963409, 339338, 105938, 802915, 971096, 626011, 231198, 911849, 227885, 268551, 127618, 990911, 36816, 13235, 208342, 445717, 759734, 804708, 904360, 470112, 111939, 751071, 908156, 631188, 689200, 967184, 399160, 938241, 619000, 846124, 109867, 103473, 107644, 958249, 794337, 803547, 897771, 796395, 854849, 826583, 436932, 907947, 544342, 384678, 184318, 971663, 490813, 524999, 236388, 973905, 519270, 384530, 989823, 215904, 145054, 868503, 206065, 692535, 266770, 779351, 202006, 670416, 603424, 287030, 408371, 140302, 991887, 911583, 881849, 892301, 160793, 750861, 928966, 438332, 622984, 185909, 915974, 126951, 773460, 296388, 360881, 674794, 191473, 914223, 446011, 728367, 262844, 366298, 923848, 787879, 765394, 761336, 73228, 529322, 777467, 440243, 905717, 704025, 104660, 242647, 938574, 337446, 922670, 437332, 625323, 707584, 474378, 734079, 74804, 853291, 773776, 223713, 760721, 704415, 245727, 559313, 190941, 654171, 891093, 327915, 632424, 767820, 307041, 435729, 316336, 831774, 886161, 927934, 233576, 530044, 146913, 110059, 899921, 74767, 904562, 826711, 58426, 204397, 793875, 513987, 536512, 567882, 530697, 598730, 792969, 33163, 914276, 706928, 389628, 612423, 879885, 706620, 453272, 775278, 416638, 591448, 424390, 499191, 350094, 10540, 907941, 287187, 251653, 333056, 450382, 652922, 771631, 70509, 155830, 531288, 166574, 358195, 446225, 717165, 857239, 80401, 84194, 523982, 952444, 275006, 55075, 84106, 321801, 716056, 267805, 792744, 128545, 879104, 277852, 417049, 371122, 56927, 80102, 289178, 42131, 676039, 960323, 675652, 807609, 939690, 503861, 414844, 596432, 123120, 867205, 849656, 968313, 80369, 220462, 471437, 262760, 972513, 484048, 494922, 694733, 929073, 555755, 747092, 208502, 968628, 624522, 743396, 621904, 664992, 470536, 214750, 952600, 613258, 169832, 365094, 498673, 265017, 570458, 981662, 461925, 869022, 447808, 455897, 323285, 66324, 886593, 673414, 622895, 748769, 803206, 879987, 824911, 344001, 479667, 488632, 694972, 516246, 6535, 131982, 99308, 81866, 639467, 597586, 16602, 201160, 971647, 868688, 532902, 769478, 614285, 256493, 243002, 630560, 235866, 92454, 764362, 183715, 631604, 183966, 17348, 399324, 345950, 296427, 335623, 762580, 427059, 599885, 617430, 380919, 185219, 72028, 300736, 154395, 566515, 71031, 702384, 200543, 866333, 31998, 778595, 284034, 628893, 101241, 388184, 290616, 978937, 497237, 913348, 557568, 867960, 164886, 91332, 586696, 305896, 296576, 977241, 15434, 370783, 624867, 622714, 748633, 534475, 431605, 611083, 474780, 427596, 470759, 892481, 93955, 569699, 248274, 684511, 661926, 224862, 913080, 867400, 548777, 180044, 346648, 282138, 299747, 982518, 733656, 814209, 628719, 24136, 665268, 551602, 534025, 72126, 965198, 903247, 60114, 943543, 708883, 641767, 879707, 878043, 58581, 917888, 334147, 110289, 786043, 545733, 468182, 202904, 9607, 483974, 860230, 888538, 263094, 107902, 962775, 964388, 934881, 92634, 751423, 314658, 947533, 135378, 919804, 673177, 159519, 405022, 91147, 511202, 476635, 139279, 534019, 682811, 561477, 291598, 515817, 732306, 336210, 799210, 940453, 621410, 179994, 754449, 87463, 236058, 268671, 993441, 309279, 393388, 26526, 911165, 656614, 634995, 206026, 795407, 307787, 66579, 358480, 618376, 401973, 787708, 705495, 277442, 344581, 497432, 776022, 345642, 806965, 156060, 930442, 523066, 751291, 785490, 720915, 380738, 996008, 276575, 262192, 75815, 200768, 968490, 391317, 919851, 531340, 666123, 153966, 267069, 758487, 80764, 737377]\n",
      "best right: [994149, 680447, 864359, 688071, 855224, 832010, 993429, 91389, 566940, 813847, 240132, 607413, 905127, 553809, 344124, 901237, 560683, 46224, 296645, 827894, 581449, 522903, 262941, 871824, 667135, 961379, 665718, 794260, 499974, 744041, 610844, 166359, 971555, 75780, 941292, 612761, 82578, 816352, 120261, 195439, 279211, 297782, 244919, 697985, 446202, 137130, 552140, 166689, 304629, 449851, 995849, 569450, 921883, 838872, 739361, 142409, 448094, 708303, 318500, 394790, 138184, 937288, 633345, 53815, 996845, 536932, 678265, 447835, 663029, 506847, 959634, 960322, 480274, 830013, 856460, 264619, 702137, 60877, 134623, 854774, 436825, 832993, 487554, 905451, 430526, 207488, 721760, 579956, 44621, 180256, 902490, 713165, 937451, 262128, 953471, 133473, 757748, 527414, 334867, 758302, 281173, 540724, 383439, 290501, 736866, 598227, 877618, 951302, 503726, 50286, 966831, 381291, 350466, 234343, 230701, 527080, 429132, 107166, 202607, 259661, 862740, 94512, 117167, 551732, 286029, 722404, 598209, 785737, 704436, 594227, 159638, 239207, 802717, 442912, 224939, 857934, 89847, 635255, 414028, 787843, 653164, 893568, 547272, 305906, 564516, 968540, 40158, 482077, 621737, 751133, 610496, 647431, 86371, 304107, 581858, 850388, 99603, 623052, 563313, 777195, 134532, 473129, 206180, 319533, 825777, 857824, 71414, 683479, 854280, 193645, 721571, 637698, 603809, 914307, 128687, 39915, 222845, 498586, 187006, 73103, 904656, 940572, 21470, 720882, 406643, 653169, 978199, 213517, 623136, 971107, 746007, 275047, 126923, 374857, 523821, 488039, 943442, 517025, 719442, 494157, 627872, 37215, 339236, 981448, 997406, 668975, 314567, 33013, 890577, 391069, 159994, 588063, 459486, 930981, 540064, 695137, 652076, 335589, 660759, 69108, 911248, 988308, 348018, 31881, 407256, 146422, 711467, 91735, 336011, 738755, 833866, 432062, 397456, 660801, 549853, 862622, 548088, 515004, 113727, 764112, 472081, 324536, 735830, 67771, 75969, 798276, 384317, 265311, 775609, 357654, 490425, 413821, 825878, 405811, 981070, 690567, 535638, 508855, 769536, 259041, 579412, 697203, 291873, 326083, 327775, 18586, 593124, 640958, 530427, 686486, 137178, 189043, 64013, 422509, 966185, 987166, 384655, 307144, 653637, 321151, 514544, 48330, 864396, 935716, 968507, 566934, 319672, 445936, 784956, 473690, 630147, 81313, 339535, 122112, 553516, 729411, 404733, 799362, 778143, 216383, 538394, 700003, 456835, 437488, 539944, 854631, 974194, 416714, 355868, 771557, 985654, 942334, 890184, 27567, 32509, 211057, 748158, 949495, 179360, 203146, 252180, 183659, 223006, 873401, 27573, 526986, 1344, 661091, 141494, 867348, 753672, 477762, 111184, 645394, 246217, 131174, 478565, 20494, 936368, 189041, 547389, 888182, 642730, 566653, 737162, 439459, 166006, 890981, 366943, 917531, 205914, 393535, 985280, 624622, 508251, 334473, 916109, 732037, 942525, 91289, 478179, 913966, 859108, 495456, 629317, 729106, 744946, 294769, 328111, 432909, 617684, 748471, 262615, 610598, 724923, 399479, 341849, 286850, 654593, 164115, 69332, 514363, 880405, 448870, 456852, 992993, 580504, 468788, 199567, 946826, 24802, 803360, 774771, 544226, 167574, 39569, 436524, 856618, 848969, 275872, 173062, 283110, 980133, 127829, 1259, 592116, 627250, 888211, 342218, 406160, 614242, 46961, 96077, 313874, 466052, 360980, 786642, 665010, 448394, 839344, 53018, 479981, 23463, 615790, 412977, 189008, 659113, 886374, 556257, 391975, 29340, 977611, 296380, 338793, 53185, 710836, 750092, 445454, 574492, 722726, 524787, 464720, 108000, 689691, 211492, 951650, 567661, 813943, 550610, 134080, 969175, 471848, 1624, 601898, 886622, 919657, 934765, 18935, 168149, 406415, 375022, 100455, 983674, 525051, 188993, 316725, 753956, 937999, 578828, 265928, 313480, 690999, 532579, 459408, 59502, 7467, 962833, 908199, 317289, 284735, 755079, 992787, 206759, 793396, 921405, 858326, 691824, 187687, 663889, 368938, 218237, 991764, 613988, 50048, 961816, 731751, 399638]\n",
      "best score: 188108\n",
      "\n",
      "best left: [675652, 191840, 300736, 879707, 899921, 722404, 581865, 413821, 864396, 902490, 618376, 366943, 473690, 142409, 337446, 913348, 137130, 245727, 91735, 503726, 985280, 694733, 739361, 893568, 211492, 220753, 494157, 760721, 769536, 282138, 963409, 833866, 107902, 446202, 74804, 610496, 566940, 1344, 965198, 862622, 961379, 787795, 787708, 477762, 598730, 751291, 731751, 206180, 240132, 408371, 1624, 690567, 928966, 267069, 886593, 589912, 566934, 700003, 334473, 751133, 318500, 40158, 621410, 848969, 527414, 550610, 691824, 287030, 942525, 108000, 180044, 748769, 169832, 964388, 290501, 446225, 746007, 524999, 774771, 360980, 660759, 342218, 566515, 33163, 911849, 471848, 286850, 527080, 627250, 704025, 806965, 588063, 33013, 131982, 779351, 860230, 621904, 296427, 873401, 724923, 968540, 455897, 652922, 908199, 892481, 313874, 511202, 399160, 159994, 479981, 812292, 474780, 251653, 629317, 287187, 692535, 614285, 947533, 375022, 205914, 277852, 778595, 248274, 431605, 857239, 145054, 634995, 929073, 939690, 952600, 190941, 134080, 673414, 525051, 127829, 538394, 744041, 350466, 59502, 803360, 480274, 218237, 720915, 523821, 567882, 206065, 448870, 990911, 483974, 729106, 442912, 647431, 892301, 384530, 74767, 661091, 552140, 879987, 759734, 748633, 663029, 888538, 39569, 628719, 266770, 281445, 867348, 697985, 564516, 60114, 497432, 380919, 930442, 825878, 224939, 994149, 123120, 904360, 435729, 716056, 498673, 778143, 53018, 575517, 603809, 67771, 307041, 985654, 771557, 908156, 764112, 544342, 978199, 187687, 937451, 291873, 534019, 682811, 470759, 10540, 275047, 633345, 167574, 230701, 426994, 705495, 380738, 223713, 548088, 94512, 943543, 339535, 966185, 305896, 996845, 553809, 566653, 296380, 720478, 265017, 256493, 66579, 416638, 499974, 991764, 793396, 262941, 321801, 890981, 919851, 680447, 598227, 735830, 877618, 448394, 327915, 803547, 87463, 617430, 24136, 980133, 86371, 747092, 888211, 622895, 536512, 92454, 775609, 891093, 971107, 453272, 81313, 710836, 856618, 713165, 391317, 951302, 837556, 134623, 468182, 183966, 58581, 862740, 982518, 927934, 536932, 79761, 141494, 159519, 166689, 775278, 630147, 120261, 838872, 234343, 107166, 242647, 733656, 214750, 721760, 547272, 792969, 389628, 277442, 215904, 786043, 977241, 704542, 488632, 913966, 612761, 166006, 185909, 37215, 936368, 262760, 614242, 787843, 50286, 758302, 612423, 549853, 374857, 619000, 707584, 291598, 309279, 42131, 533454, 592116, 765264, 81866, 166359, 905717, 839344, 958249, 995849, 503861, 613258, 316336, 897771, 535638, 983674, 399324, 499191, 997406, 155830, 184318, 719442, 210417, 628893, 487554, 53185, 744946, 113727, 785490, 765394, 406415, 706928, 513987, 974194, 653169, 567661, 981070, 286029, 971663, 39915, 967184, 110059, 134532, 450382, 358480, 344581, 439459, 69332, 314567, 72126, 146913, 971555, 524787, 55075, 868688, 404733, 339338, 907941, 586696, 314658, 414844, 764362, 360881, 66324, 79712, 338793, 193645, 224862, 32509, 313480, 940572, 259041, 615790, 717165, 18586, 407256, 384678, 283110, 304107, 231198, 555856, 262844, 798276, 128545, 127387, 934765, 470536, 635255, 551602, 631188, 416714, 60877, 399479, 879104, 622714, 579956, 82578, 738755, 652076, 109867, 212336, 388184, 208342, 914223, 459408, 264619, 49455, 235866, 622984, 69108, 637232, 472081, 346648, 611083, 761336, 531340, 446011, 940453, 581858, 732306, 881849, 188993, 597586, 140302, 972513, 200768, 804708, 445717, 517025, 50048, 215913, 27573, 111184, 401973, 664992, 758528, 930981, 683479, 529482, 743396, 126967, 299747, 99603, 383439, 545733, 560683, 578828, 206759, 816352, 345950, 199567, 476635, 653637, 907947, 104660, 951650, 667135, 515004, 676039, 750181, 48330, 27567, 498586, 281173, 697203, 117167, 319672, 645394, 484673, 694972, 345642, 555755, 64013, 447835, 391975, 830013, 54871, 381291, 706025, 265928, 80764, 786642, 436825, 826583, 663889, 239207, 938574, 773776, 962834, 430526, 937288, 827894, 207488, 164886, 296576]\n",
      "best right: [427059, 570458, 581449, 921883, 265311, 777467, 867205, 666123, 355868, 880405, 275872, 886374, 432062, 849656, 23315, 607413, 855224, 523066, 544848, 799362, 854774, 867400, 987166, 405022, 393388, 557568, 275006, 436524, 621737, 75969, 366298, 749247, 350094, 80369, 344124, 674794, 594227, 762580, 166574, 656614, 459486, 417049, 626011, 540724, 484048, 412977, 973905, 72015, 627660, 200543, 307144, 988308, 21470, 233576, 963480, 660801, 553516, 284735, 291061, 348018, 631604, 227885, 546483, 211057, 339236, 526986, 639467, 938241, 47207, 632424, 919804, 603424, 640958, 750092, 394790, 296388, 202607, 871824, 168149, 901237, 544226, 850388, 923848, 868503, 246217, 679423, 673177, 623136, 684511, 31881, 792744, 185219, 371122, 135378, 866333, 977611, 688071, 334147, 445936, 432909, 334867, 563313, 729411, 495456, 31998, 336210, 824911, 968507, 101241, 399638, 58426, 214088, 772002, 75815, 70509, 220462, 456835, 593124, 99308, 962833, 508855, 424390, 689691, 989823, 966831, 284034, 324536, 641767, 702384, 773460, 202904, 13235, 183715, 464720, 569450, 968628, 304629, 971647, 482077, 448094, 813943, 758487, 128687, 561477, 574492, 252180, 937999, 814209, 755079, 794337, 244919, 466052, 91147, 293333, 103473, 911583, 187006, 992787, 857934, 547389, 80401, 948820, 15434, 993441, 670416, 996008, 854849, 429132, 832993, 321151, 922670, 216383, 370783, 665268, 24802, 784956, 653164, 753956, 890577, 516246, 579412, 534475, 189043, 702137, 111939, 317289, 393535, 737377, 734079, 946826, 133473, 107644, 598209, 911165, 610844, 191473, 869022, 368938, 981662, 122112, 748158, 279211, 305906, 29340, 913080, 358195, 473129, 941292, 100455, 914307, 711467, 20494, 795407, 110289, 365094, 515817, 189041, 139279, 461925, 23463, 886161, 164115, 661926, 91289, 154395, 846124, 530427, 16602, 904562, 28932, 713727, 223006, 384655, 357654, 160793, 294769, 813847, 909679, 708883, 456852, 934881, 105938, 414028, 624622, 548777, 886622, 344001, 769478, 921405, 689200, 495401, 952444, 127618, 478565, 826711, 942334, 222845, 490425, 704436, 637698, 341849, 479667, 591448, 678265, 159638, 531288, 978937, 335589, 92634, 449851, 276575, 343606, 992993, 73228, 405811, 529322, 624867, 406643, 753672, 48211, 259661, 962775, 975139, 307787, 180256, 326083, 44621, 799210, 757748, 179994, 478179, 471437, 802717, 750861, 9607, 268671, 112117, 156060, 617684, 867960, 556257, 803206, 601898, 508251, 289178, 406160, 71031, 171464, 131174, 384317, 530697, 991887, 919657, 807609, 728367, 623052, 327775, 627872, 540064, 440243, 960322, 642730, 732037, 137178, 164702, 787879, 911248, 890184, 30629, 599885, 263094, 625323, 532902, 189008, 888182, 296645, 686486, 126923, 856460, 427596, 949495, 1259, 917888, 751071, 173062, 530044, 470112, 91332, 831774, 981448, 89847, 802915, 767820, 915974, 519270, 6535, 796395, 706620, 506847, 447808, 613988, 580504, 195439, 71414, 916109, 437488, 534025, 91389, 864359, 953471, 213517, 335623, 262615, 46224, 959634, 905451, 859108, 690999, 7467, 610598, 748471, 438332, 704415, 146422, 73103, 878043, 854631, 18935, 903247, 391069, 153966, 569699, 969175, 879885, 854280, 201160, 183659, 624522, 262192, 722726, 853291, 236058, 785737, 316725, 36816, 522903, 736866, 497237, 630125, 323285, 943442, 654593, 80102, 53815, 290616, 204397, 514544, 202006, 138184, 971096, 46961, 75780, 777195, 336011, 744139, 208502, 720882, 825777, 397456, 905127, 857824, 84194, 236388, 17348, 319533, 84106, 968490, 935716, 832010, 490813, 514363, 436932, 243002, 776022, 474378, 96077, 961816, 437332, 532579, 754449, 917531, 771631, 203146, 858326, 206026, 708303, 904656, 267805, 551732, 751423, 297782, 523982, 126951, 630560, 468788, 328111, 793875, 488039, 26526, 721571, 914276, 695137, 494922, 654171, 659113, 665010, 737162, 794260, 333056, 668975, 596432, 993429, 56927, 268551, 559313, 539944, 445454, 960323, 422509, 665718, 262128, 534788, 179360, 718594, 327114, 72028, 968313, 93955]\n",
      "best score: 93290\n",
      "\n",
      "best left: [934765, 145054, 762580, 267069, 980133, 962775, 525051, 488039, 899921, 612761, 536512, 962833, 550610, 694733, 960322, 621904, 6535, 556257, 625323, 531340, 987166, 216383, 787708, 413821, 245727, 108000, 113727, 337446, 787795, 199567, 391975, 689200, 905127, 853291, 621410, 49455, 383439, 532579, 470759, 223006, 552140, 437332, 647431, 346648, 380738, 838872, 941292, 713727, 375022, 304107, 748633, 867205, 854774, 246217, 802915, 880405, 307041, 591448, 384655, 965198, 110059, 566934, 388184, 503861, 864396, 623052, 206026, 527080, 297782, 126951, 156060, 678265, 721571, 426994, 743396, 972513, 917531, 997406, 365094, 706928, 978937, 39569, 921883, 180256, 570458, 569699, 166006, 474378, 854849, 929073, 824911, 18935, 94512, 296576, 736866, 27573, 653637, 553516, 892301, 142409, 675652, 547389, 666123, 892481, 720915, 653169, 244919, 867960, 39915, 456852, 690567, 807609, 993429, 432909, 159519, 624622, 879885, 612423, 431605, 877618, 721760, 603809, 738755, 665268, 239207, 180044, 692535, 914276, 934881, 524999, 472081, 546483, 704542, 654171, 91735, 327915, 234343, 985280, 737162, 940572, 707584, 447808, 183966, 33163, 266770, 825878, 334147, 445936, 399160, 211492, 785737, 494157, 184318, 243002, 484048, 350094, 848969, 166689, 448870, 857824, 856460, 799210, 294769, 13235, 459408, 888211, 977241, 601898, 497237, 412977, 15434, 674794, 213517, 236058, 652922, 890981, 938241, 75780, 327775, 448094, 146422, 864359, 886593, 290501, 733656, 187006, 704025, 904562, 393388, 286029, 427059, 333056, 10540, 771557, 974194, 937999, 826583, 867348, 91289, 498586, 717165, 91389, 105938, 973905, 529322, 614242, 137130, 993441, 536932, 291598, 263094, 406415, 227885, 792969, 793875, 84106, 951302, 968540, 871824, 775609, 166359, 622895, 667135, 697985, 629317, 661926, 948820, 284735, 154395, 126923, 517025, 267805, 171464, 706620, 436825, 962834, 953471, 449851, 868688, 326083, 24136, 344581, 335589, 787879, 345950, 134080, 524787, 252180, 826711, 566940, 473129, 592116, 971663, 886374, 975139, 350466, 135378, 839344, 191840, 594227, 276575, 652076, 358480, 134623, 774771, 139279, 753956, 74804, 24802, 617430, 966831, 927934, 289178, 963480, 660759, 952444, 991887, 159638, 750861, 87463, 806965, 615790, 122112, 230701, 622714, 422509, 40158, 384530, 314658, 963409, 689691, 478179, 635255, 141494, 455897, 857239, 911583, 89847, 702384, 832993, 716056, 581449, 700003, 262760, 189008, 640958, 414844, 862740, 825777, 479667, 321151, 296427, 530427, 982518, 185219, 630147, 300736, 47207, 191473, 598730, 499974, 69332, 663889, 405811, 569450, 275872, 417049, 275047, 706025, 259041, 971647, 922670, 336011, 744139, 753672, 732306, 206065, 935716, 111184, 137178, 79761, 977611, 471437, 133473, 557568, 48330, 618376, 380919, 764362, 287187, 670416, 992993, 994149, 416638, 522903, 304629, 579412, 110289, 358195, 466052, 215904, 856618, 971555, 891093, 445454, 729411, 164702, 735830, 93955, 704415, 82578, 204397, 16602, 514544, 314567, 100455, 503726, 665010, 566653, 923848, 610496, 427596, 231198, 866333, 617684, 940453, 224862, 384317, 72015, 786043, 966185, 526986, 339236, 374857, 391317, 540064, 416714, 107644, 316725, 366298, 208502, 445717, 803206, 80102, 989823, 796395, 533454, 405022, 432062, 728367, 913348, 544226, 567882, 978199, 468182, 627872, 586696, 705495, 470112, 44621, 686486, 185909, 930981, 202006, 29340, 164115, 708303, 207488, 50048, 275006, 482077, 23463, 265311, 338793, 911248, 327114, 160793, 682811, 969175, 117167, 474780, 281445, 265928, 277442, 59502, 968628, 548777, 218237, 193645, 919804, 747092, 84194, 355868, 548088, 664992, 761336, 911849, 905717, 408371, 869022, 313480, 495401, 794337, 71414, 748158, 656614, 339338, 370783, 697203, 532902, 633345, 778595, 988308, 921405, 598209, 888538, 439459, 802717, 479981, 80369, 534019, 435729, 81313, 1624, 291061, 281173, 751071, 952600, 555755, 784956, 777467, 103473]\n",
      "best right: [127618, 210417, 914307, 164886, 991764, 985654, 564516, 437488, 720882, 459486, 111939, 96077, 627660, 31998, 827894, 490813, 769536, 858326, 223713, 55075, 855224, 208342, 42131, 202607, 777195, 321801, 211057, 545733, 506847, 916109, 946826, 937451, 279211, 708883, 483974, 128687, 206180, 574492, 334473, 265017, 831774, 168149, 846124, 99308, 268671, 205914, 665718, 54871, 890577, 220462, 112117, 189043, 623136, 299747, 551602, 523821, 357654, 318500, 341849, 748471, 778143, 406160, 514363, 642730, 399324, 744946, 155830, 264619, 683479, 832010, 751291, 757748, 760721, 407256, 453272, 71031, 691824, 446202, 907941, 91147, 713165, 971107, 908199, 540724, 663029, 344001, 890184, 720478, 879104, 262192, 903247, 316336, 722726, 371122, 632424, 909679, 654593, 450382, 75815, 888182, 879987, 724923, 187687, 561477, 442912, 200768, 653164, 854631, 480274, 126967, 803547, 598227, 799362, 947533, 555856, 850388, 516246, 732037, 169832, 134532, 406643, 167574, 336210, 513987, 661091, 830013, 104660, 539944, 368938, 80764, 183659, 206759, 344124, 996008, 868503, 446225, 53815, 981662, 641767, 18586, 943442, 7467, 30629, 494922, 195439, 401973, 179994, 751423, 588063, 631188, 179360, 107166, 862622, 360980, 508251, 146913, 779351, 109867, 287030, 795407, 429132, 471848, 259661, 816352, 508855, 968313, 523066, 886161, 904656, 748769, 201160, 626011, 611083, 456835, 360881, 203146, 722404, 72028, 915974, 961379, 215913, 46961, 597586, 607413, 334867, 755079, 580504, 127387, 140302, 995849, 166574, 307144, 544342, 914223, 27567, 739361, 58426, 833866, 771631, 188993, 680447, 630125, 235866, 69108, 939690, 17348, 153966, 928966, 66579, 704436, 393535, 534788, 127829, 183715, 624867, 813943, 764112, 622984, 867400, 660801, 942525, 930442, 719442, 544848, 342218, 31881, 222845, 284034, 901237, 881849, 256493, 305896, 319533, 92634, 1259, 798276, 138184, 560683, 91332, 440243, 878043, 690999, 296388, 613988, 637232, 603424, 80401, 446011, 490425, 70509, 189041, 759734, 317289, 473690, 547272, 567661, 67771, 886622, 324536, 599885, 814209, 908156, 366943, 765264, 534025, 53018, 958249, 775278, 498673, 990911, 248274, 92454, 750181, 48211, 461925, 785490, 33013, 769478, 996845, 873401, 101241, 389628, 610598, 447835, 787843, 476635, 464720, 397456, 53185, 624522, 964388, 242647, 593124, 786642, 968490, 487554, 233576, 911165, 202904, 64013, 430526, 679423, 772002, 731751, 812292, 579956, 120261, 74767, 634995, 628719, 981070, 268551, 549853, 159994, 581858, 128545, 46224, 123120, 794260, 515004, 173062, 967184, 107902, 262615, 776022, 596432, 477762, 538394, 37215, 575517, 190941, 296645, 734079, 36816, 530044, 478565, 857934, 913966, 73228, 200543, 551732, 262844, 621737, 262128, 804708, 291873, 961816, 688071, 645394, 879707, 527414, 936368, 837556, 424390, 1344, 305906, 277852, 519270, 773460, 913080, 404733, 711467, 992787, 399638, 523982, 535638, 578828, 21470, 589912, 702137, 793396, 328111, 290616, 659113, 710836, 893568, 676039, 58581, 60114, 758487, 905451, 283110, 695137, 694972, 758302, 968507, 66324, 307787, 9607, 282138, 981448, 224939, 323285, 553809, 515817, 293333, 767820, 951650, 614285, 286850, 566515, 56927, 971096, 758528, 497432, 309279, 619000, 251653, 907947, 628893, 448394, 436932, 262941, 343606, 919657, 23315, 28932, 559313, 470536, 511202, 131982, 750092, 919851, 436524, 746007, 75969, 531288, 313874, 749247, 499191, 729106, 751133, 684511, 414028, 610844, 79712, 859108, 983674, 673414, 765394, 214750, 860230, 627250, 637698, 495456, 60877, 718594, 212336, 529482, 630560, 384678, 530697, 488632, 484673, 73103, 744041, 803360, 26526, 50286, 754449, 563313, 813847, 20494, 394790, 348018, 381291, 631604, 345642, 240132, 296380, 438332, 792744, 86371, 391069, 673177, 468788, 959634, 214088, 81866, 534475, 949495, 99603, 937288, 32509, 639467, 399479, 773776, 917888, 581865, 897771, 938574, 339535, 613258, 849656, 737377, 904360, 236388, 943543, 72126, 668975, 335623, 854280, 220753, 902490, 319672, 942334, 960323, 131174]\n",
      "best score: 630\n",
      "\n",
      "best left: [611083, 748769, 446202, 223713, 127618, 159519, 265017, 751133, 548777, 710836, 534019, 107902, 468788, 958249, 708883, 683479, 946826, 744139, 799362, 474378, 666123, 407256, 904360, 60877, 206026, 530044, 185219, 978199, 888538, 850388, 190941, 42131, 138184, 211057, 731751, 327915, 581865, 503726, 405022, 91147, 996845, 44621, 503861, 598227, 319533, 923848, 384530, 205914, 404733, 456835, 859108, 476635, 597586, 737162, 549853, 28932, 445454, 248274, 437488, 812292, 704542, 73228, 855224, 406643, 429132, 792744, 265311, 961379, 380738, 849656, 99308, 647431, 775278, 663889, 275872, 728367, 399160, 947533, 588063, 438332, 708303, 952600, 540064, 36816, 794337, 665010, 417049, 560683, 654171, 391975, 633345, 183715, 344124, 58581, 81313, 758487, 744041, 533454, 929073, 759734, 185909, 653164, 397456, 645394, 430526, 566940, 91735, 436932, 627660, 711467, 236388, 448394, 676039, 538394, 134532, 391317, 615790, 47207, 963409, 283110, 67771, 668975, 767820, 838872, 536932, 66324, 18935, 339236, 173062, 214750, 529482, 720915, 27573, 289178, 365094, 540724, 233576, 384678, 479667, 888182, 857239, 637232, 128545, 445936, 79712, 313480, 262192, 59502, 610844, 973905, 921405, 48330, 555755, 168149, 968313, 794260, 960323, 610598, 738755, 305906, 621737, 220753, 612761, 206759, 80401, 948820, 453272, 622895, 405811, 939690, 911165, 914223, 674794, 623136, 691824, 284735, 334147, 981070, 854631, 123120, 813847, 498673, 971107, 345642, 60114, 327775, 653169, 911583, 472081, 321801, 202607, 941292, 792969, 195439, 478565, 473129, 339535, 551602, 334867, 961816, 824911, 216383, 769478, 893568, 87463, 735830, 527080, 384317, 888211, 967184, 873401, 31881, 189041, 84194, 704025, 440243, 660801, 854849, 75780, 427596, 832010, 54871, 80102, 366298, 16602, 92454, 553809, 574492, 962833, 527414, 179360, 304629, 799210, 550610, 787879, 628893, 314567, 996008, 251653, 904656, 993441, 424390, 733656, 524999, 581858, 661926, 569699, 886593, 256493, 529322, 316725, 350466, 213517, 342218, 107166, 603809, 837556, 166006, 91332, 530427, 694972, 981448, 262615, 532902, 436825, 131174, 21470, 702137, 448094, 494922, 960322, 905127, 965198, 522903, 717165, 750181, 532579, 630125, 991764, 704415, 53185, 30629, 630147, 339338, 690567, 494157, 92634, 964388, 482077, 488632, 218237, 279211, 517025, 707584, 296388, 146913, 337446, 750092, 243002, 724923, 146422, 343606, 548088, 732306, 555856, 18586, 468182, 814209, 864359, 126951, 7467, 825878, 166689, 526986, 877618, 983674, 564516, 563313, 751423, 108000, 736866, 416638, 689691, 853291, 907941, 916109, 729411, 544342, 785737, 625323, 201160, 848969, 937999, 775609, 515817, 69332, 846124, 128687, 858326, 300736, 868503, 384655, 787708, 897771, 446011, 29340, 886374, 908156, 110289, 323285, 951302, 58426, 917888, 653637, 305896, 495456, 544226, 459486, 982518, 559313, 963480, 720882, 570458, 71031, 622984, 296576, 111184, 758528, 290616, 183966, 408371, 267805, 183659, 290501, 569450, 470536, 803360, 566653, 282138, 358195, 722726, 360980, 654593, 447808, 470759, 399479, 531340, 749247, 619000, 137178, 994149, 856460, 886622, 659113, 878043, 720478, 919851, 535638, 937288, 765394, 530697, 432909, 122112, 737377, 141494, 215904, 971647, 383439, 566934, 706928, 905451, 110059, 117167, 697985, 56927, 9607, 155830, 713165, 159994, 480274, 72126, 470112, 689200, 610496, 391069, 436524, 287030, 786043, 265928, 631604, 907947, 777467, 508855, 455897, 80369, 905717, 137130, 943442, 259661, 617684, 879707, 579956, 33163, 215913, 734079, 816352, 406160, 291598, 601898, 702384, 690999, 686486, 246217, 431605, 975139, 966185, 264619, 277852, 309279, 81866, 72015, 277442, 675652, 827894, 860230, 74804, 787843, 166574, 614285, 413821, 682811, 673414, 17348, 879885, 622714, 713727, 642730, 281445, 880405, 1344, 202006, 641767, 335589, 936368, 432062, 627872, 32509, 519270, 993429, 15434, 73103, 235866, 64013, 240132, 978937, 722404, 546483, 140302, 630560, 333056, 552140, 262760]\n",
      "best right: [1259, 607413, 867348, 534475, 355868, 164115, 617430, 652922, 613258, 262844, 579412, 890184, 133473, 678265, 341849, 46224, 357654, 202904, 952444, 854774, 695137, 992993, 483974, 614242, 75815, 937451, 830013, 350094, 684511, 744946, 79761, 328111, 473690, 909679, 113727, 456852, 536512, 892301, 24136, 239207, 652076, 914276, 732037, 798276, 307041, 867960, 534025, 366943, 764112, 603424, 943543, 694733, 94512, 193645, 523982, 890577, 437332, 293333, 96077, 629317, 971096, 826711, 862622, 223006, 439459, 716056, 234343, 665268, 679423, 561477, 612423, 40158, 803547, 180256, 705495, 82578, 899921, 862740, 917531, 230701, 227885, 299747, 446225, 348018, 490813, 49455, 938574, 498586, 324536, 670416, 74767, 53815, 307144, 154395, 688071, 319672, 447835, 187687, 53018, 334473, 103473, 631188, 771631, 879104, 531288, 506847, 326083, 857934, 748471, 459408, 673177, 516246, 416714, 545733, 621904, 156060, 514363, 589912, 294769, 393388, 335623, 747092, 921883, 236058, 637698, 484673, 971663, 626011, 739361, 962834, 374857, 212336, 911248, 50048, 296427, 949495, 991887, 104660, 656614, 985280, 495401, 39915, 499974, 297782, 46961, 803206, 107644, 987166, 968540, 314658, 581449, 286029, 940453, 804708, 23315, 628719, 784956, 389628, 488039, 661091, 406415, 832993, 748158, 760721, 206180, 598730, 942525, 189008, 786642, 477762, 99603, 471848, 753956, 449851, 748633, 100455, 866333, 153966, 664992, 6535, 242647, 700003, 91289, 159638, 23463, 953471, 881849, 667135, 304107, 214088, 401973, 478179, 127829, 187006, 208502, 134623, 915974, 598209, 524787, 262941, 793396, 252180, 316336, 868688, 627250, 586696, 291873, 719442, 754449, 903247, 414844, 938241, 525051, 394790, 977611, 31998, 995849, 706025, 204397, 171464, 84106, 773460, 75969, 134080, 787795, 307787, 70509, 338793, 284034, 856618, 388184, 445717, 262128, 345950, 547272, 624867, 968628, 624522, 575517, 556257, 267069, 951650, 599885, 93955, 886161, 778143, 534788, 208342, 199567, 461925, 370783, 751291, 971555, 275006, 833866, 593124, 867205, 968490, 393535, 381291, 557568, 69108, 755079, 399324, 913080, 765264, 857824, 471437, 762580, 580504, 120261, 508251, 777195, 268671, 567882, 854280, 904562, 974194, 892481, 275047, 990911, 207488, 869022, 793875, 266770, 596432, 203146, 772002, 13235, 427059, 613988, 778595, 139279, 86371, 39569, 244919, 514544, 1624, 871824, 259041, 523821, 112117, 802717, 380919, 450382, 864396, 48211, 761336, 972513, 10540, 779351, 523066, 188993, 164702, 89847, 358480, 758302, 634995, 753672, 412977, 729106, 764362, 922670, 959634, 769536, 131982, 966831, 287187, 942334, 490425, 179994, 344581, 930981, 697203, 977241, 551732, 913348, 160793, 635255, 968507, 167574, 901237, 680447, 692535, 919804, 515004, 281173, 621410, 751071, 37215, 111939, 989823, 33013, 934765, 360881, 80764, 867400, 902490, 109867, 189043, 826583, 547389, 497237, 513987, 718594, 807609, 914307, 592116, 985654, 145054, 706620, 66579, 499191, 291061, 497432, 268551, 126923, 448870, 296645, 665718, 663029, 594227, 375022, 224862, 825777, 55075, 927934, 231198, 479981, 802915, 981662, 969175, 346648, 567661, 184318, 344001, 464720, 24802, 191840, 997406, 988308, 224939, 566515, 640958, 639467, 879987, 200768, 913966, 962775, 327114, 992787, 795407, 721571, 142409, 336210, 399638, 553516, 813943, 774771, 20494, 806965, 511202, 484048, 771557, 934881, 426994, 930442, 191473, 796395, 980133, 263094, 211492, 206065, 773776, 71414, 127387, 831774, 50286, 91389, 578828, 539944, 721760, 164886, 624622, 785490, 414028, 166359, 618376, 743396, 474780, 126967, 757748, 368938, 487554, 222845, 26526, 435729, 908199, 746007, 660759, 245727, 632424, 891093, 623052, 544848, 940572, 276575, 27567, 591448, 336011, 928966, 442912, 105938, 704436, 200543, 220462, 422509, 371122, 135378, 750861, 466052, 919657, 321151, 776022, 180044, 911849, 839344, 296380, 286850, 935716, 317289, 313874, 210417, 169832, 890981, 101241, 72028, 318500]\n",
      "best score: 290\n",
      "\n",
      "best left: [569699, 105938, 327775, 526986, 213517, 739361, 503726, 159994, 678265, 107644, 100455, 49455, 439459, 166006, 281173, 561477, 40158, 614242, 335589, 224862, 265928, 206759, 47207, 429132, 236388, 731751, 296380, 879104, 985654, 974194, 969175, 628719, 903247, 283110, 437488, 222845, 389628, 108000, 774771, 514544, 951650, 777467, 259041, 748633, 622984, 167574, 183715, 20494, 532902, 235866, 665718, 384678, 581865, 399324, 965198, 679423, 275872, 468788, 26526, 525051, 786043, 523066, 886593, 318500, 401973, 991764, 877618, 17348, 498586, 637232, 579412, 958249, 180256, 959634, 200543, 54871, 700003, 566653, 128687, 164886, 737162, 81313, 96077, 612761, 630125, 586696, 952444, 27567, 953471, 598227, 289178, 968490, 578828, 711467, 623136, 64013, 619000, 899921, 72015, 786642, 44621, 854280, 683479, 848969, 189043, 539944, 50286, 716056, 765394, 135378, 214750, 523982, 886374, 733656, 37215, 216383, 743396, 179360, 566515, 702384, 721571, 946826, 686486, 234343, 265311, 981448, 391975, 751133, 73103, 230701, 754449, 99603, 744139, 262941, 772002, 985280, 448394, 911583, 208502, 134080, 75815, 769478, 615790, 579956, 729106, 776022, 989823, 459486, 120261, 383439, 499974, 110059, 676039, 897771, 869022, 682811, 190941, 717165, 524999, 610496, 862622, 299747, 31881, 487554, 702137, 202607, 336210, 996008, 107902, 33013, 771557, 84194, 563313, 753956, 94512, 1624, 313874, 316725, 240132, 904656, 751423, 277852, 207488, 892481, 664992, 890184, 708883, 430526, 567882, 806965, 569450, 746007, 534025, 927934, 206180, 935716, 91735, 408371, 804708, 939690, 750861, 594227, 164702, 637698, 345950, 762580, 904562, 214088, 544226, 92634, 750181, 799210, 479981, 123120, 200768, 575517, 470112, 914276, 447835, 210417, 599885, 262844, 244919, 287030, 860230, 169832, 639467, 706025, 276575, 391069, 323285, 473690, 905717, 787708, 171464, 89847, 749247, 837556, 645394, 908199, 188993, 631604, 321151, 223713, 610598, 358195, 911248, 878043, 236058, 968628, 32509, 365094, 769536, 399479, 166689, 284735, 674794, 793396, 952600, 208342, 708303, 962833, 15434, 290616, 267069, 319533, 267805, 445936, 640958, 350466, 84106, 886161, 867960, 384530, 393535, 334473, 166359, 940453, 91289, 713165, 262128, 659113, 697985, 344581, 9607, 773460, 647431, 853291, 245727, 642730, 758487, 13235, 555856, 145054, 549853, 448870, 291598, 24136, 794260, 684511, 205914, 18586, 675652, 540724, 74804, 857824, 630560, 156060, 612423, 705495, 256493, 850388, 461925, 39569, 294769, 220753, 963480, 314658, 380738, 813847, 901237, 522903, 621737, 350094, 812292, 862740, 262192, 248274, 185909, 832010, 992993, 287187, 719442, 654171, 471437, 929073, 110289, 375022, 466052, 48211, 971107, 275006, 131982, 482077, 673177, 879707, 866333, 101241, 992787, 397456, 448094, 159638, 886622, 846124, 243002, 665268, 971663, 296645, 126967, 91147, 839344, 334867, 326083, 470536, 506847, 497237, 66579, 824911, 453272, 215904, 337446, 778595, 104660, 968507, 371122, 581449, 947533, 665010, 368938, 341849, 764112, 963409, 560683, 624622, 327114, 893568, 864359, 422509, 854774, 412977, 69108, 503861, 868688, 915974, 456835, 138184, 407256, 949495, 227885, 127829, 690999, 343606, 154395, 967184, 286029, 435729, 617684, 960323, 993441, 940572, 938574, 527414, 785490, 534788, 111184, 445717, 724923, 262760, 732306, 333056, 995849, 530044, 921405, 399638, 694972, 438332, 189008, 189041, 117167, 291873, 471848, 211492, 879885, 613988, 497432, 652922, 242647, 204397, 218237, 168149, 581858, 792744, 758302, 857239, 67771, 661091, 627250, 187006, 652076, 688071, 334147, 6535, 856460, 71031, 540064, 962775, 348018, 566934, 566940, 128545, 557568, 338793, 981070, 942334, 7467, 223006, 297782, 975139, 404733, 787843, 532579, 570458, 109867, 911165, 446011, 483974, 873401, 603809, 796395, 814209, 867205, 275047, 142409, 928966, 794337, 406643, 552140, 193645, 380919, 784956, 29340, 937288, 164115, 91389, 137130, 384655, 293333, 988308, 212336, 597586, 304629, 103473, 996845, 495401, 203146, 858326, 131174, 345642, 468182, 978199, 72028, 470759]\n",
      "best right: [977241, 126923, 304107, 511202, 704436, 722404, 87463, 366943, 80102, 627872, 617430, 981662, 831774, 355868, 140302, 990911, 381291, 546483, 530427, 414028, 478179, 508251, 922670, 551602, 406160, 484048, 961379, 342218, 417049, 621904, 654593, 432062, 268551, 666123, 529322, 529482, 284034, 327915, 859108, 436825, 179994, 516246, 807609, 802717, 964388, 832993, 978937, 747092, 744946, 477762, 187687, 60877, 753672, 972513, 530697, 759734, 393388, 499191, 231198, 778143, 370783, 905127, 892301, 405811, 690567, 827894, 718594, 758528, 10540, 803206, 732037, 748158, 191473, 146422, 653637, 618376, 268671, 484673, 704025, 472081, 277442, 58581, 296427, 55075, 384317, 60114, 943543, 183659, 239207, 42131, 73228, 464720, 919804, 202006, 184318, 286850, 50048, 993429, 909679, 773776, 416638, 75780, 440243, 58426, 589912, 488039, 547389, 23315, 548088, 82578, 263094, 498673, 816352, 459408, 307787, 710836, 321801, 888182, 613258, 414844, 795407, 446202, 99308, 838872, 113727, 695137, 551732, 738755, 80764, 623052, 524787, 670416, 765264, 941292, 721760, 997406, 691824, 697203, 344001, 748471, 706928, 750092, 514363, 479667, 473129, 777195, 728367, 316336, 748769, 305906, 798276, 339236, 79712, 307144, 388184, 980133, 857934, 735830, 913080, 667135, 265017, 33163, 71414, 973905, 360980, 328111, 296576, 622714, 916109, 141494, 23463, 436524, 374857, 775609, 793875, 424390, 535638, 259661, 736866, 660801, 826583, 199567, 849656, 792969, 902490, 233576, 692535, 994149, 593124, 983674, 166574, 59502, 536512, 53815, 70509, 53018, 720915, 107166, 137178, 432909, 426994, 943442, 854631, 544848, 449851, 888211, 663889, 1259, 668975, 262615, 517025, 813943, 631188, 707584, 825878, 86371, 282138, 713727, 611083, 704542, 830013, 75969, 621410, 139279, 72126, 625323, 21470, 534019, 803547, 919657, 825777, 624867, 871824, 319672, 281445, 601898, 971096, 629317, 966185, 547272, 917531, 80369, 653164, 634995, 357654, 559313, 971647, 826711, 764362, 111939, 519270, 553809, 66324, 921883, 775278, 934881, 314567, 607413, 656614, 494922, 201160, 919851, 202904, 437332, 527080, 279211, 80401, 427059, 533454, 891093, 127387, 934765, 734079, 416714, 133473, 722726, 536932, 855224, 290501, 515004, 785737, 474780, 948820, 406415, 641767, 591448, 442912, 31998, 93955, 366298, 92454, 296388, 335623, 729411, 628893, 914307, 890981, 556257, 513987, 771631, 982518, 476635, 908156, 305896, 224939, 755079, 603424, 833866, 155830, 787879, 495456, 913966, 706620, 914223, 490425, 48330, 661926, 480274, 30629, 74767, 881849, 555755, 24802, 478565, 146913, 960322, 630147, 112117, 455897, 69332, 134532, 291061, 911849, 431605, 39915, 917888, 564516, 598209, 779351, 610844, 689200, 905451, 153966, 971555, 531288, 977611, 344124, 907941, 867348, 704415, 445454, 553516, 317289, 16602, 951302, 767820, 195439, 961816, 206026, 127618, 339535, 761336, 803360, 890577, 937999, 474378, 663029, 300736, 494157, 757748, 324536, 937451, 545733, 592116, 81866, 737377, 488632, 904360, 942525, 720478, 36816, 447808, 596432, 134623, 446225, 46961, 673414, 627660, 180044, 183966, 968540, 622895, 427596, 358480, 548777, 215913, 550610, 856618, 868503, 79761, 854849, 913348, 246217, 538394, 626011, 930442, 173062, 760721, 751291, 191840, 660759, 394790, 991887, 751071, 580504, 313480, 635255, 632424, 122112, 399160, 598730, 126951, 436932, 391317, 360881, 802915, 27573, 987166, 490813, 18935, 450382, 266770, 880405, 680447, 930981, 252180, 309279, 531340, 339338, 534475, 56927, 185219, 160793, 456852, 264619, 206065, 744041, 251653, 936368, 159519, 879987, 968313, 694733, 966831, 544342, 787795, 689691, 413821, 53185, 1344, 962834, 336011, 614285, 633345, 567661, 907947, 653169, 588063, 91332, 574492, 867400, 888538, 523821, 938241, 346648, 220462, 405022, 799362, 624522, 720882, 307041, 923848, 515817, 46224, 864396, 508855, 28932, 211057]\n",
      "best score: 52\n",
      "\n",
      "best left: [470536, 75815, 857824, 15434, 548777, 623052, 248274, 888182, 839344, 189043, 224939, 60877, 397456, 566653, 448870, 744946, 598730, 358480, 252180, 127387, 111184, 265928, 357654, 716056, 316725, 969175, 637232, 751291, 977611, 262192, 159519, 498673, 968540, 432062, 794260, 345642, 622714, 383439, 293333, 511202, 654593, 309279, 506847, 777467, 263094, 690999, 617430, 787879, 44621, 995849, 436524, 358195, 630560, 262941, 416714, 72126, 792969, 281445, 93955, 323285, 557568, 53185, 28932, 24136, 189041, 527414, 58581, 393388, 755079, 91289, 69332, 290616, 265017, 137130, 368938, 744139, 720478, 959634, 92634, 461925, 24802, 91735, 494922, 164115, 80369, 296645, 207488, 185219, 778143, 710836, 429132, 869022, 131174, 879707, 718594, 7467, 691824, 773460, 567661, 487554, 952600, 526986, 793875, 80764, 110289, 146422, 479667, 277442, 474378, 23315, 665268, 91389, 702137, 200543, 399479, 266770, 202006, 127618, 943442, 987166, 764362, 985654, 294769, 971096, 499974, 771557, 445717, 886161, 827894, 477762, 721571, 598209, 447835, 904360, 6535, 54871, 40158, 391069, 680447, 286850, 803206, 531340, 720882, 831774, 343606, 430526, 80102, 413821, 299747, 251653, 601898, 459486, 82578, 156060, 911849, 224862, 529322, 971647, 592116, 245727, 499191, 33013, 764112, 879104, 31998, 46224, 922670, 579956, 622984, 405022, 963480, 159994, 888538, 971663, 929073, 74804, 275047, 750181, 446202, 683479, 911583, 259041, 287187, 993441, 417049, 435729, 729106, 281173, 758302, 167574, 414028, 591448, 72015, 555856, 29340, 982518, 664992, 346648, 334147, 913348, 268671, 704415, 503726, 991887, 946826, 717165, 720915, 448394, 79761, 70509, 934881, 262128, 290501, 381291, 548088, 456852, 438332, 614242, 333056, 406415, 892301, 27573, 536932, 603809, 980133, 746007, 879987, 391317, 971107, 391975, 448094, 739361, 966185, 963409, 645394, 327775, 476635, 334867, 286029, 611083, 694972, 627872, 779351, 908156, 488632, 748769, 985280, 978199, 478565, 336011, 902490, 479981, 947533, 154395, 275872, 342218, 91147, 627250, 540724, 533454, 104660, 579412, 242647, 405811, 676039, 991764, 552140, 126951, 214750, 220462, 191840, 864359, 968507, 326083, 416638, 514544, 344581, 773776, 275006, 626011, 907941, 737377, 291061, 69108, 549853, 291873, 560683, 50048, 569699, 291598, 966831, 283110, 673177, 877618, 556257, 992993, 305896, 16602, 670416, 544226, 393535, 472081, 56927, 802717, 126923, 276575, 857934, 169832, 798276, 539944, 544848, 824911, 765394, 704436, 838872, 706620, 478179, 965198, 547389, 137178, 938574, 807609, 335589, 100455, 856460, 534019, 265311, 128687, 328111, 336210, 661091, 796395, 155830, 216383, 860230, 989823, 913966, 262760, 686486, 769478, 775609, 729411, 360881, 642730, 923848, 694733, 784956, 665010, 578828, 408371, 607413, 804708, 466052, 459408, 1344, 334473, 665718, 191473, 131982, 937451, 937288, 886593, 422509, 941292, 754449, 66579, 704025, 930981, 230701, 879885, 596432, 695137, 848969, 830013, 743396, 904562, 188993, 117167, 128545, 888211, 450382, 120261, 951650, 728367, 327915, 187006, 640958, 734079, 96077, 566515, 628719, 795407, 674794, 890184, 706025, 737162, 975139, 208342, 183966, 527080, 109867, 744041, 688071, 296427, 992787, 482077, 939690, 776022, 917531, 227885, 983674, 814209, 284034, 711467, 635255, 515004, 654171, 259661, 530427, 761336, 495401, 760721, 697203, 53815, 653164, 751133, 484673, 530697, 724923, 190941, 633345, 911248, 866333, 401973, 748471, 99308, 547272, 436825, 566934, 553809, 338793, 218237, 18935, 935716, 873401, 107166, 849656, 42131, 802915, 615790, 854631, 890981, 284735, 179360, 905451, 407256, 319672, 778595, 360980, 513987, 20494, 371122, 787843, 424390, 1259, 525051, 523066, 641767, 204397, 446011, 214088, 60114, 236388, 629317, 55075, 561477, 610598, 344124, 719442, 179994, 656614, 30629, 978937, 99603, 660759, 953471, 184318, 856618, 689691, 81866, 67771, 66324, 684511, 246217, 886622, 971555, 559313, 777195, 787708, 50286, 613988, 748158]\n",
      "best right: [212336, 112117, 624622, 244919, 440243, 846124, 449851, 862622, 447808, 825777, 199567, 470112, 490813, 39915, 793396, 223006, 891093, 468788, 868503, 546483, 498586, 927934, 630147, 551602, 962833, 621737, 384655, 632424, 940572, 786642, 588063, 142409, 563313, 166574, 617684, 72028, 930442, 833866, 366298, 634995, 445936, 765264, 826711, 321151, 702384, 159638, 589912, 534025, 663889, 994149, 622895, 279211, 134532, 981070, 183659, 799362, 339236, 951302, 988308, 10540, 753672, 659113, 49455, 345950, 470759, 812292, 75969, 380738, 80401, 313874, 412977, 222845, 202904, 974194, 880405, 748633, 111939, 365094, 785737, 735830, 231198, 296388, 375022, 236058, 91332, 515817, 732037, 307787, 907947, 305906, 316336, 388184, 339338, 915974, 679423, 23463, 282138, 813847, 534788, 630125, 892481, 474780, 107644, 631604, 75780, 348018, 762580, 240132, 514363, 567882, 206759, 580504, 758487, 767820, 74767, 164886, 135378, 690567, 532579, 206180, 574492, 692535, 497432, 832010, 613258, 185909, 993429, 268551, 908199, 544342, 523982, 663029, 545733, 940453, 881849, 775278, 981448, 942334, 708303, 473690, 934765, 867960, 668975, 211492, 277852, 374857, 202607, 166689, 213517, 593124, 921405, 890577, 406160, 623136, 538394, 867348, 639467, 858326, 146913, 899921, 445454, 47207, 490425, 624867, 961816, 652076, 508855, 914307, 145054, 962775, 399324, 914223, 751071, 297782, 160793, 914276, 262615, 471437, 905717, 943543, 350466, 653169, 750861, 195439, 335623, 540064, 304107, 180256, 832993, 406643, 751423, 84194, 689200, 721760, 523821, 551732, 453272, 787795, 909679, 267069, 603424, 598227, 952444, 134623, 569450, 708883, 141494, 262844, 370783, 972513, 105938, 772002, 355868, 682811, 399638, 138184, 319533, 307144, 936368, 92454, 234343, 871824, 187687, 1624, 206065, 610496, 813943, 126967, 48211, 384530, 973905, 442912, 516246, 183715, 166359, 296380, 916109, 771631, 673414, 321801, 653637, 384317, 200768, 904656, 32509, 878043, 619000, 84106, 750092, 928966, 581449, 503861, 733656, 517025, 534475, 439459, 550610, 46961, 483974, 921883, 314658, 508251, 581858, 962834, 621904, 919851, 193645, 427596, 555755, 864396, 233576, 652922, 867205, 480274, 794337, 968490, 535638, 968313, 173062, 774771, 437488, 919657, 404733, 706928, 256493, 39569, 133473, 697985, 235866, 570458, 628893, 189008, 33163, 384678, 64013, 624522, 566940, 759734, 48330, 350094, 58426, 806965, 519270, 675652, 497237, 488039, 981662, 618376, 610844, 666123, 553516, 324536, 854774, 901237, 337446, 707584, 366943, 893568, 637698, 307041, 964388, 660801, 575517, 792744, 700003, 868688, 208502, 9607, 153966, 627660, 837556, 289178, 958249, 394790, 753956, 26526, 612423, 996845, 426994, 380919, 108000, 961379, 803360, 13235, 140302, 581865, 862740, 17348, 86371, 625323, 300736, 317289, 532902, 339535, 164702, 127829, 122112, 799210, 37215, 747092, 614285, 722726, 586696, 647431, 94512, 996008, 101241, 113727, 471848, 749247, 713165, 220753, 594227, 524999, 938241, 456835, 785490, 524787, 897771, 123120, 942525, 71031, 867400, 71414, 531288, 949495, 850388, 203146, 139279, 530044, 73103, 738755, 205914, 206026, 621410, 210417, 484048, 667135, 267805, 960323, 110059, 341849, 59502, 919804, 304629, 437332, 722404, 816352, 296576, 905127, 758528, 857239, 853291, 436932, 937999, 705495, 107902, 977241, 597586, 859108, 223713, 713727, 53018, 917888, 825878, 171464, 73228, 243002, 27567, 968628, 967184, 704542, 431605, 769536, 661926, 313480, 446225, 81313, 427059, 529482, 180044, 803547, 18586, 757748, 215904, 786043, 913080, 468182, 599885, 31881, 854849, 731751, 399160, 432909, 854280, 166006, 134080, 732306, 855224, 211057, 201160, 36816, 612761, 264619, 79712, 536512, 522903, 631188, 564516, 997406, 990911, 168149, 911165, 464720, 948820, 455897, 826583, 903247, 21470, 215913, 886374, 736866, 414844, 239207, 495456, 960322, 327114, 87463, 89847, 287030, 318500, 473129, 389628, 678265, 494157, 314567, 344001, 103473]\n",
      "best score: 44\n",
      "\n",
      "\n",
      "Best partition found:\n",
      "left : [470536, 75815, 857824, 15434, 548777, 623052, 248274, 888182, 839344, 189043, 224939, 60877, 397456, 566653, 448870, 744946, 598730, 358480, 252180, 127387, 111184, 265928, 357654, 716056, 316725, 969175, 637232, 751291, 977611, 262192, 159519, 498673, 968540, 432062, 794260, 345642, 622714, 383439, 293333, 511202, 654593, 309279, 506847, 777467, 263094, 690999, 617430, 787879, 44621, 995849, 436524, 358195, 630560, 262941, 416714, 72126, 792969, 281445, 93955, 323285, 557568, 53185, 28932, 24136, 189041, 527414, 58581, 393388, 755079, 91289, 69332, 290616, 265017, 137130, 368938, 744139, 720478, 959634, 92634, 461925, 24802, 91735, 494922, 164115, 80369, 296645, 207488, 185219, 778143, 710836, 429132, 869022, 131174, 879707, 718594, 7467, 691824, 773460, 567661, 487554, 952600, 526986, 793875, 80764, 110289, 146422, 479667, 277442, 474378, 23315, 665268, 91389, 702137, 200543, 399479, 266770, 202006, 127618, 943442, 987166, 764362, 985654, 294769, 971096, 499974, 771557, 445717, 886161, 827894, 477762, 721571, 598209, 447835, 904360, 6535, 54871, 40158, 391069, 680447, 286850, 803206, 531340, 720882, 831774, 343606, 430526, 80102, 413821, 299747, 251653, 601898, 459486, 82578, 156060, 911849, 224862, 529322, 971647, 592116, 245727, 499191, 33013, 764112, 879104, 31998, 46224, 922670, 579956, 622984, 405022, 963480, 159994, 888538, 971663, 929073, 74804, 275047, 750181, 446202, 683479, 911583, 259041, 287187, 993441, 417049, 435729, 729106, 281173, 758302, 167574, 414028, 591448, 72015, 555856, 29340, 982518, 664992, 346648, 334147, 913348, 268671, 704415, 503726, 991887, 946826, 717165, 720915, 448394, 79761, 70509, 934881, 262128, 290501, 381291, 548088, 456852, 438332, 614242, 333056, 406415, 892301, 27573, 536932, 603809, 980133, 746007, 879987, 391317, 971107, 391975, 448094, 739361, 966185, 963409, 645394, 327775, 476635, 334867, 286029, 611083, 694972, 627872, 779351, 908156, 488632, 748769, 985280, 978199, 478565, 336011, 902490, 479981, 947533, 154395, 275872, 342218, 91147, 627250, 540724, 533454, 104660, 579412, 242647, 405811, 676039, 991764, 552140, 126951, 214750, 220462, 191840, 864359, 968507, 326083, 416638, 514544, 344581, 773776, 275006, 626011, 907941, 737377, 291061, 69108, 549853, 291873, 560683, 50048, 569699, 291598, 966831, 283110, 673177, 877618, 556257, 992993, 305896, 16602, 670416, 544226, 393535, 472081, 56927, 802717, 126923, 276575, 857934, 169832, 798276, 539944, 544848, 824911, 765394, 704436, 838872, 706620, 478179, 965198, 547389, 137178, 938574, 807609, 335589, 100455, 856460, 534019, 265311, 128687, 328111, 336210, 661091, 796395, 155830, 216383, 860230, 989823, 913966, 262760, 686486, 769478, 775609, 729411, 360881, 642730, 923848, 694733, 784956, 665010, 578828, 408371, 607413, 804708, 466052, 459408, 1344, 334473, 665718, 191473, 131982, 937451, 937288, 886593, 422509, 941292, 754449, 66579, 704025, 930981, 230701, 879885, 596432, 695137, 848969, 830013, 743396, 904562, 188993, 117167, 128545, 888211, 450382, 120261, 951650, 728367, 327915, 187006, 640958, 734079, 96077, 566515, 628719, 795407, 674794, 890184, 706025, 737162, 975139, 208342, 183966, 527080, 109867, 744041, 688071, 296427, 992787, 482077, 939690, 776022, 917531, 227885, 983674, 814209, 284034, 711467, 635255, 515004, 654171, 259661, 530427, 761336, 495401, 760721, 697203, 53815, 653164, 751133, 484673, 530697, 724923, 190941, 633345, 911248, 866333, 401973, 748471, 99308, 547272, 436825, 566934, 553809, 338793, 218237, 18935, 935716, 873401, 107166, 849656, 42131, 802915, 615790, 854631, 890981, 284735, 179360, 905451, 407256, 319672, 778595, 360980, 513987, 20494, 371122, 787843, 424390, 1259, 525051, 523066, 641767, 204397, 446011, 214088, 60114, 236388, 629317, 55075, 561477, 610598, 344124, 719442, 179994, 656614, 30629, 978937, 99603, 660759, 953471, 184318, 856618, 689691, 81866, 67771, 66324, 684511, 246217, 886622, 971555, 559313, 777195, 787708, 50286, 613988, 748158]\n",
      "right: [212336, 112117, 624622, 244919, 440243, 846124, 449851, 862622, 447808, 825777, 199567, 470112, 490813, 39915, 793396, 223006, 891093, 468788, 868503, 546483, 498586, 927934, 630147, 551602, 962833, 621737, 384655, 632424, 940572, 786642, 588063, 142409, 563313, 166574, 617684, 72028, 930442, 833866, 366298, 634995, 445936, 765264, 826711, 321151, 702384, 159638, 589912, 534025, 663889, 994149, 622895, 279211, 134532, 981070, 183659, 799362, 339236, 951302, 988308, 10540, 753672, 659113, 49455, 345950, 470759, 812292, 75969, 380738, 80401, 313874, 412977, 222845, 202904, 974194, 880405, 748633, 111939, 365094, 785737, 735830, 231198, 296388, 375022, 236058, 91332, 515817, 732037, 307787, 907947, 305906, 316336, 388184, 339338, 915974, 679423, 23463, 282138, 813847, 534788, 630125, 892481, 474780, 107644, 631604, 75780, 348018, 762580, 240132, 514363, 567882, 206759, 580504, 758487, 767820, 74767, 164886, 135378, 690567, 532579, 206180, 574492, 692535, 497432, 832010, 613258, 185909, 993429, 268551, 908199, 544342, 523982, 663029, 545733, 940453, 881849, 775278, 981448, 942334, 708303, 473690, 934765, 867960, 668975, 211492, 277852, 374857, 202607, 166689, 213517, 593124, 921405, 890577, 406160, 623136, 538394, 867348, 639467, 858326, 146913, 899921, 445454, 47207, 490425, 624867, 961816, 652076, 508855, 914307, 145054, 962775, 399324, 914223, 751071, 297782, 160793, 914276, 262615, 471437, 905717, 943543, 350466, 653169, 750861, 195439, 335623, 540064, 304107, 180256, 832993, 406643, 751423, 84194, 689200, 721760, 523821, 551732, 453272, 787795, 909679, 267069, 603424, 598227, 952444, 134623, 569450, 708883, 141494, 262844, 370783, 972513, 105938, 772002, 355868, 682811, 399638, 138184, 319533, 307144, 936368, 92454, 234343, 871824, 187687, 1624, 206065, 610496, 813943, 126967, 48211, 384530, 973905, 442912, 516246, 183715, 166359, 296380, 916109, 771631, 673414, 321801, 653637, 384317, 200768, 904656, 32509, 878043, 619000, 84106, 750092, 928966, 581449, 503861, 733656, 517025, 534475, 439459, 550610, 46961, 483974, 921883, 314658, 508251, 581858, 962834, 621904, 919851, 193645, 427596, 555755, 864396, 233576, 652922, 867205, 480274, 794337, 968490, 535638, 968313, 173062, 774771, 437488, 919657, 404733, 706928, 256493, 39569, 133473, 697985, 235866, 570458, 628893, 189008, 33163, 384678, 64013, 624522, 566940, 759734, 48330, 350094, 58426, 806965, 519270, 675652, 497237, 488039, 981662, 618376, 610844, 666123, 553516, 324536, 854774, 901237, 337446, 707584, 366943, 893568, 637698, 307041, 964388, 660801, 575517, 792744, 700003, 868688, 208502, 9607, 153966, 627660, 837556, 289178, 958249, 394790, 753956, 26526, 612423, 996845, 426994, 380919, 108000, 961379, 803360, 13235, 140302, 581865, 862740, 17348, 86371, 625323, 300736, 317289, 532902, 339535, 164702, 127829, 122112, 799210, 37215, 747092, 614285, 722726, 586696, 647431, 94512, 996008, 101241, 113727, 471848, 749247, 713165, 220753, 594227, 524999, 938241, 456835, 785490, 524787, 897771, 123120, 942525, 71031, 867400, 71414, 531288, 949495, 850388, 203146, 139279, 530044, 73103, 738755, 205914, 206026, 621410, 210417, 484048, 667135, 267805, 960323, 110059, 341849, 59502, 919804, 304629, 437332, 722404, 816352, 296576, 905127, 758528, 857239, 853291, 436932, 937999, 705495, 107902, 977241, 597586, 859108, 223713, 713727, 53018, 917888, 825878, 171464, 73228, 243002, 27567, 968628, 967184, 704542, 431605, 769536, 661926, 313480, 446225, 81313, 427059, 529482, 180044, 803547, 18586, 757748, 215904, 786043, 913080, 468182, 599885, 31881, 854849, 731751, 399160, 432909, 854280, 166006, 134080, 732306, 855224, 211057, 201160, 36816, 612761, 264619, 79712, 536512, 522903, 631188, 564516, 997406, 990911, 168149, 911165, 464720, 948820, 455897, 826583, 903247, 21470, 215913, 886374, 736866, 414844, 239207, 495456, 960322, 327114, 87463, 89847, 287030, 318500, 473129, 389628, 678265, 494157, 314567, 344001, 103473]\n",
      "score: 44\n"
     ]
    }
   ],
   "source": [
    "def split_numbers_method1_sort_ascending_randomized2(numbers, n):\n",
    "    best_left, best_right = [], []\n",
    "    best_score = float('inf')\n",
    "    for _ in range(n):\n",
    "        left, right = split_numbers_method1_randomized(numbers)\n",
    "        score = get_score(left, right)\n",
    "        if score < best_score:\n",
    "            best_left, best_right = left, right\n",
    "            best_score = score\n",
    "            print(f'best left: {best_left}')\n",
    "            print(f'best right: {best_right}')\n",
    "            print(f'best score: {best_score}')\n",
    "            print()\n",
    "    return best_left, best_right\n",
    "\n",
    "\n",
    "nums = get_numbers('nums1000.txt')\n",
    "left, right = split_numbers_method1_sort_ascending_randomized2(nums, 10000)\n",
    "print()\n",
    "print('Best partition found:')\n",
    "print(f'left : {left}')\n",
    "print(f'right: {right}')\n",
    "print(f'score: {get_score(left, right)}')"
   ]
  }
 ],
 "metadata": {
  "kernelspec": {
   "display_name": "Python 3",
   "language": "python",
   "name": "python3"
  },
  "language_info": {
   "codemirror_mode": {
    "name": "ipython",
    "version": 3
   },
   "file_extension": ".py",
   "mimetype": "text/x-python",
   "name": "python",
   "nbconvert_exporter": "python",
   "pygments_lexer": "ipython3",
   "version": "3.13.2"
  }
 },
 "nbformat": 4,
 "nbformat_minor": 2
}
